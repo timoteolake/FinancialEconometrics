{
 "cells": [
  {
   "cell_type": "code",
   "execution_count": 1,
   "id": "6fc7b2ca-def6-4b52-8000-b7707d1315d5",
   "metadata": {
    "execution": {
     "iopub.execute_input": "2025-03-25T08:11:49.369481Z",
     "iopub.status.busy": "2025-03-25T08:11:49.369481Z",
     "iopub.status.idle": "2025-03-25T08:11:51.941425Z",
     "shell.execute_reply": "2025-03-25T08:11:51.941425Z",
     "shell.execute_reply.started": "2025-03-25T08:11:49.369481Z"
    }
   },
   "outputs": [],
   "source": [
    "import numpy as np\n",
    "import pandas as pd\n",
    "\n",
    "from sktime.forecasting.arima import ARIMA, AutoARIMA\n",
    "# from sktime.forecasting.arima import StatsModelsARIMA\n",
    "# from sktime.forecasting.statsforecast import StatsForecastAutoARIMA\n",
    "from sktime.utils.plotting import plot_series\n",
    "# временной горизонт для прогнозирования\n",
    "from sktime.forecasting.base import ForecastingHorizon\n",
    "\n",
    "import pandas_datareader.data as web\n",
    "\n",
    "# тесты диагностики\n",
    "from statsmodels.stats.diagnostic import het_arch, acorr_ljungbox\n",
    "\n",
    "# настройки визуализации\n",
    "import matplotlib.pyplot as plt\n",
    "\n",
    "# Не показывать Warnings\n",
    "import warnings\n",
    "warnings.simplefilter(action='ignore', category=Warning)\n",
    "# Не показывать ValueWarning, ConvergenceWarning из statsmodels\n",
    "from statsmodels.tools.sm_exceptions import ValueWarning, ConvergenceWarning\n",
    "warnings.simplefilter('ignore', category=ValueWarning)\n",
    "warnings.simplefilter('ignore', category=ConvergenceWarning)"
   ]
  },
  {
   "cell_type": "code",
   "execution_count": 2,
   "id": "f27bda03-12aa-4700-8e49-2b087d55baae",
   "metadata": {
    "execution": {
     "iopub.execute_input": "2025-03-25T08:13:08.279070Z",
     "iopub.status.busy": "2025-03-25T08:13:08.279070Z",
     "iopub.status.idle": "2025-03-25T08:13:13.389089Z",
     "shell.execute_reply": "2025-03-25T08:13:13.389089Z",
     "shell.execute_reply.started": "2025-03-25T08:13:08.279070Z"
    }
   },
   "outputs": [],
   "source": [
    "y = np.log(web.DataReader(name='M2SL', data_source='fred', start='1995-01-01'))\n",
    "y.index = y.index.to_period(freq='M')"
   ]
  },
  {
   "cell_type": "code",
   "execution_count": 3,
   "id": "e090b4bc-6c76-4bb2-a998-3ce777201758",
   "metadata": {
    "execution": {
     "iopub.execute_input": "2025-03-25T08:14:16.702305Z",
     "iopub.status.busy": "2025-03-25T08:14:16.702305Z",
     "iopub.status.idle": "2025-03-25T08:14:19.267629Z",
     "shell.execute_reply": "2025-03-25T08:14:19.267629Z",
     "shell.execute_reply.started": "2025-03-25T08:14:16.702305Z"
    }
   },
   "outputs": [
    {
     "data": {
      "text/plain": [
       "{'intercept': np.float64(0.0019404499469396785),\n",
       " 'ar.L1': np.float64(0.6115582239435952),\n",
       " 'sigma2': np.float64(1.9712747511061015e-05),\n",
       " 'order': (1, 1, 0),\n",
       " 'seasonal_order': (0, 0, 0, 0),\n",
       " 'aic': np.float64(-2871.7689553428318),\n",
       " 'aicc': np.float64(-2871.701539612495),\n",
       " 'bic': np.float64(-2860.110643248481),\n",
       " 'hqic': np.float64(-2867.1333893985707)}"
      ]
     },
     "execution_count": 3,
     "metadata": {},
     "output_type": "execute_result"
    }
   ],
   "source": [
    "forecaster = AutoARIMA(information_criterion='bic', test='kpss', seasonal=False)\n",
    "forecaster.fit(y)\n",
    "forecaster.get_fitted_params() #['order']"
   ]
  },
  {
   "cell_type": "code",
   "execution_count": 4,
   "id": "08dbb1a5-0a1a-4b11-a5f7-6e507b3dadb6",
   "metadata": {
    "execution": {
     "iopub.execute_input": "2025-03-25T08:16:15.406603Z",
     "iopub.status.busy": "2025-03-25T08:16:15.406603Z",
     "iopub.status.idle": "2025-03-25T08:16:17.062347Z",
     "shell.execute_reply": "2025-03-25T08:16:17.062347Z",
     "shell.execute_reply.started": "2025-03-25T08:16:15.406603Z"
    }
   },
   "outputs": [
    {
     "data": {
      "text/plain": [
       "{'intercept': np.float64(0.0019404499469396785),\n",
       " 'ar.L1': np.float64(0.6115582239435952),\n",
       " 'sigma2': np.float64(1.9712747511061015e-05),\n",
       " 'order': (1, 1, 0),\n",
       " 'seasonal_order': (0, 0, 0, 0),\n",
       " 'aic': np.float64(-2871.7689553428318),\n",
       " 'aicc': np.float64(-2871.701539612495),\n",
       " 'bic': np.float64(-2860.110643248481),\n",
       " 'hqic': np.float64(-2867.1333893985707)}"
      ]
     },
     "execution_count": 4,
     "metadata": {},
     "output_type": "execute_result"
    }
   ],
   "source": [
    "forecaster = AutoARIMA(information_criterion='aic', test='kpss', seasonal=False)\n",
    "forecaster.fit(y)\n",
    "forecaster.get_fitted_params() #['order']"
   ]
  },
  {
   "cell_type": "code",
   "execution_count": 5,
   "id": "cd279e12-633c-4de4-aa29-dcbde5ef8d98",
   "metadata": {
    "execution": {
     "iopub.execute_input": "2025-03-25T08:16:33.152144Z",
     "iopub.status.busy": "2025-03-25T08:16:33.152144Z",
     "iopub.status.idle": "2025-03-25T08:16:34.835415Z",
     "shell.execute_reply": "2025-03-25T08:16:34.835415Z",
     "shell.execute_reply.started": "2025-03-25T08:16:33.152144Z"
    }
   },
   "outputs": [
    {
     "data": {
      "text/plain": [
       "{'intercept': np.float64(0.0019404499469396785),\n",
       " 'ar.L1': np.float64(0.6115582239435952),\n",
       " 'sigma2': np.float64(1.9712747511061015e-05),\n",
       " 'order': (1, 1, 0),\n",
       " 'seasonal_order': (0, 0, 0, 0),\n",
       " 'aic': np.float64(-2871.7689553428318),\n",
       " 'aicc': np.float64(-2871.701539612495),\n",
       " 'bic': np.float64(-2860.110643248481),\n",
       " 'hqic': np.float64(-2867.1333893985707)}"
      ]
     },
     "execution_count": 5,
     "metadata": {},
     "output_type": "execute_result"
    }
   ],
   "source": [
    "forecaster = AutoARIMA(information_criterion='bic', test='adf', seasonal=False)\n",
    "forecaster.fit(y)\n",
    "forecaster.get_fitted_params() #['order']"
   ]
  },
  {
   "cell_type": "code",
   "execution_count": 6,
   "id": "10496b81-5af8-4aab-bb5e-80a8b5c27fe2",
   "metadata": {
    "execution": {
     "iopub.execute_input": "2025-03-25T08:36:51.215727Z",
     "iopub.status.busy": "2025-03-25T08:36:51.215727Z",
     "iopub.status.idle": "2025-03-25T08:36:51.382004Z",
     "shell.execute_reply": "2025-03-25T08:36:51.382004Z",
     "shell.execute_reply.started": "2025-03-25T08:36:51.215727Z"
    }
   },
   "outputs": [
    {
     "data": {
      "text/html": [
       "<table class=\"simpletable\">\n",
       "<caption>SARIMAX Results</caption>\n",
       "<tr>\n",
       "  <th>Dep. Variable:</th>           <td>y</td>        <th>  No. Observations:  </th>    <td>361</td>   \n",
       "</tr>\n",
       "<tr>\n",
       "  <th>Model:</th>           <td>SARIMAX(1, 1, 0)</td> <th>  Log Likelihood     </th> <td>1438.884</td> \n",
       "</tr>\n",
       "<tr>\n",
       "  <th>Date:</th>            <td>Tue, 25 Mar 2025</td> <th>  AIC                </th> <td>-2871.769</td>\n",
       "</tr>\n",
       "<tr>\n",
       "  <th>Time:</th>                <td>11:36:51</td>     <th>  BIC                </th> <td>-2860.111</td>\n",
       "</tr>\n",
       "<tr>\n",
       "  <th>Sample:</th>             <td>01-31-1995</td>    <th>  HQIC               </th> <td>-2867.133</td>\n",
       "</tr>\n",
       "<tr>\n",
       "  <th></th>                   <td>- 01-31-2025</td>   <th>                     </th>     <td> </td>    \n",
       "</tr>\n",
       "<tr>\n",
       "  <th>Covariance Type:</th>        <td>opg</td>       <th>                     </th>     <td> </td>    \n",
       "</tr>\n",
       "</table>\n",
       "<table class=\"simpletable\">\n",
       "<tr>\n",
       "      <td></td>         <th>coef</th>     <th>std err</th>      <th>z</th>      <th>P>|z|</th>  <th>[0.025</th>    <th>0.975]</th>  \n",
       "</tr>\n",
       "<tr>\n",
       "  <th>intercept</th> <td>    0.0019</td> <td>    0.000</td> <td>    5.810</td> <td> 0.000</td> <td>    0.001</td> <td>    0.003</td>\n",
       "</tr>\n",
       "<tr>\n",
       "  <th>ar.L1</th>     <td>    0.6116</td> <td>    0.016</td> <td>   37.571</td> <td> 0.000</td> <td>    0.580</td> <td>    0.643</td>\n",
       "</tr>\n",
       "<tr>\n",
       "  <th>sigma2</th>    <td> 1.971e-05</td> <td> 5.09e-07</td> <td>   38.728</td> <td> 0.000</td> <td> 1.87e-05</td> <td> 2.07e-05</td>\n",
       "</tr>\n",
       "</table>\n",
       "<table class=\"simpletable\">\n",
       "<tr>\n",
       "  <th>Ljung-Box (L1) (Q):</th>     <td>0.42</td> <th>  Jarque-Bera (JB):  </th> <td>8121.21</td>\n",
       "</tr>\n",
       "<tr>\n",
       "  <th>Prob(Q):</th>                <td>0.52</td> <th>  Prob(JB):          </th>  <td>0.00</td>  \n",
       "</tr>\n",
       "<tr>\n",
       "  <th>Heteroskedasticity (H):</th> <td>2.36</td> <th>  Skew:              </th>  <td>2.51</td>  \n",
       "</tr>\n",
       "<tr>\n",
       "  <th>Prob(H) (two-sided):</th>    <td>0.00</td> <th>  Kurtosis:          </th>  <td>25.72</td> \n",
       "</tr>\n",
       "</table><br/><br/>Warnings:<br/>[1] Covariance matrix calculated using the outer product of gradients (complex-step)."
      ],
      "text/latex": [
       "\\begin{center}\n",
       "\\begin{tabular}{lclc}\n",
       "\\toprule\n",
       "\\textbf{Dep. Variable:}          &        y         & \\textbf{  No. Observations:  } &    361      \\\\\n",
       "\\textbf{Model:}                  & SARIMAX(1, 1, 0) & \\textbf{  Log Likelihood     } &  1438.884   \\\\\n",
       "\\textbf{Date:}                   & Tue, 25 Mar 2025 & \\textbf{  AIC                } & -2871.769   \\\\\n",
       "\\textbf{Time:}                   &     11:36:51     & \\textbf{  BIC                } & -2860.111   \\\\\n",
       "\\textbf{Sample:}                 &    01-31-1995    & \\textbf{  HQIC               } & -2867.133   \\\\\n",
       "\\textbf{}                        &   - 01-31-2025   & \\textbf{                     } &             \\\\\n",
       "\\textbf{Covariance Type:}        &       opg        & \\textbf{                     } &             \\\\\n",
       "\\bottomrule\n",
       "\\end{tabular}\n",
       "\\begin{tabular}{lcccccc}\n",
       "                   & \\textbf{coef} & \\textbf{std err} & \\textbf{z} & \\textbf{P$> |$z$|$} & \\textbf{[0.025} & \\textbf{0.975]}  \\\\\n",
       "\\midrule\n",
       "\\textbf{intercept} &       0.0019  &        0.000     &     5.810  &         0.000        &        0.001    &        0.003     \\\\\n",
       "\\textbf{ar.L1}     &       0.6116  &        0.016     &    37.571  &         0.000        &        0.580    &        0.643     \\\\\n",
       "\\textbf{sigma2}    &    1.971e-05  &     5.09e-07     &    38.728  &         0.000        &     1.87e-05    &     2.07e-05     \\\\\n",
       "\\bottomrule\n",
       "\\end{tabular}\n",
       "\\begin{tabular}{lclc}\n",
       "\\textbf{Ljung-Box (L1) (Q):}     & 0.42 & \\textbf{  Jarque-Bera (JB):  } & 8121.21  \\\\\n",
       "\\textbf{Prob(Q):}                & 0.52 & \\textbf{  Prob(JB):          } &   0.00   \\\\\n",
       "\\textbf{Heteroskedasticity (H):} & 2.36 & \\textbf{  Skew:              } &   2.51   \\\\\n",
       "\\textbf{Prob(H) (two-sided):}    & 0.00 & \\textbf{  Kurtosis:          } &  25.72   \\\\\n",
       "\\bottomrule\n",
       "\\end{tabular}\n",
       "%\\caption{SARIMAX Results}\n",
       "\\end{center}\n",
       "\n",
       "Warnings: \\newline\n",
       " [1] Covariance matrix calculated using the outer product of gradients (complex-step)."
      ],
      "text/plain": [
       "<class 'statsmodels.iolib.summary.Summary'>\n",
       "\"\"\"\n",
       "                               SARIMAX Results                                \n",
       "==============================================================================\n",
       "Dep. Variable:                      y   No. Observations:                  361\n",
       "Model:               SARIMAX(1, 1, 0)   Log Likelihood                1438.884\n",
       "Date:                Tue, 25 Mar 2025   AIC                          -2871.769\n",
       "Time:                        11:36:51   BIC                          -2860.111\n",
       "Sample:                    01-31-1995   HQIC                         -2867.133\n",
       "                         - 01-31-2025                                         \n",
       "Covariance Type:                  opg                                         \n",
       "==============================================================================\n",
       "                 coef    std err          z      P>|z|      [0.025      0.975]\n",
       "------------------------------------------------------------------------------\n",
       "intercept      0.0019      0.000      5.810      0.000       0.001       0.003\n",
       "ar.L1          0.6116      0.016     37.571      0.000       0.580       0.643\n",
       "sigma2      1.971e-05   5.09e-07     38.728      0.000    1.87e-05    2.07e-05\n",
       "===================================================================================\n",
       "Ljung-Box (L1) (Q):                   0.42   Jarque-Bera (JB):              8121.21\n",
       "Prob(Q):                              0.52   Prob(JB):                         0.00\n",
       "Heteroskedasticity (H):               2.36   Skew:                             2.51\n",
       "Prob(H) (two-sided):                  0.00   Kurtosis:                        25.72\n",
       "===================================================================================\n",
       "\n",
       "Warnings:\n",
       "[1] Covariance matrix calculated using the outer product of gradients (complex-step).\n",
       "\"\"\""
      ]
     },
     "execution_count": 6,
     "metadata": {},
     "output_type": "execute_result"
    }
   ],
   "source": [
    "forecaster = ARIMA(order=(1,1,0), trend='c')\n",
    "forecaster.fit(y)\n",
    "forecaster.summary()"
   ]
  },
  {
   "cell_type": "code",
   "execution_count": 7,
   "id": "ab48280f-5047-4136-9fc9-ee60bdb0460b",
   "metadata": {
    "execution": {
     "iopub.execute_input": "2025-03-25T08:39:08.217464Z",
     "iopub.status.busy": "2025-03-25T08:39:08.217464Z",
     "iopub.status.idle": "2025-03-25T08:39:08.273693Z",
     "shell.execute_reply": "2025-03-25T08:39:08.273693Z",
     "shell.execute_reply.started": "2025-03-25T08:39:08.217464Z"
    }
   },
   "outputs": [
    {
     "data": {
      "text/html": [
       "<div>\n",
       "<style scoped>\n",
       "    .dataframe tbody tr th:only-of-type {\n",
       "        vertical-align: middle;\n",
       "    }\n",
       "\n",
       "    .dataframe tbody tr th {\n",
       "        vertical-align: top;\n",
       "    }\n",
       "\n",
       "    .dataframe thead th {\n",
       "        text-align: right;\n",
       "    }\n",
       "</style>\n",
       "<table border=\"1\" class=\"dataframe\">\n",
       "  <thead>\n",
       "    <tr style=\"text-align: right;\">\n",
       "      <th></th>\n",
       "      <th>lb_stat</th>\n",
       "      <th>lb_pvalue</th>\n",
       "    </tr>\n",
       "  </thead>\n",
       "  <tbody>\n",
       "    <tr>\n",
       "      <th>5</th>\n",
       "      <td>10.400755</td>\n",
       "      <td>0.015449</td>\n",
       "    </tr>\n",
       "  </tbody>\n",
       "</table>\n",
       "</div>"
      ],
      "text/plain": [
       "     lb_stat  lb_pvalue\n",
       "5  10.400755   0.015449"
      ]
     },
     "execution_count": 7,
     "metadata": {},
     "output_type": "execute_result"
    }
   ],
   "source": [
    "# model_df = p+q\n",
    "acorr_ljungbox(forecaster.predict_residuals(y).dropna() , lags=[5], model_df=2)"
   ]
  },
  {
   "cell_type": "code",
   "execution_count": 8,
   "id": "f32be03a-600d-4295-b991-b7933aa74c60",
   "metadata": {
    "execution": {
     "iopub.execute_input": "2025-03-25T08:41:13.624278Z",
     "iopub.status.busy": "2025-03-25T08:41:13.623275Z",
     "iopub.status.idle": "2025-03-25T08:41:13.664233Z",
     "shell.execute_reply": "2025-03-25T08:41:13.664233Z",
     "shell.execute_reply.started": "2025-03-25T08:41:13.624278Z"
    }
   },
   "outputs": [
    {
     "data": {
      "text/plain": [
       "(np.float64(74.24351307803958), np.float64(1.3380127246625773e-14))"
      ]
     },
     "execution_count": 8,
     "metadata": {},
     "output_type": "execute_result"
    }
   ],
   "source": [
    "lm_stat, lm_pval, f_stat, f_pval = het_arch(forecaster.predict_residuals(y).dropna(), nlags=5, ddof=2)\n",
    "\n",
    "lm_stat, lm_pval"
   ]
  },
  {
   "cell_type": "code",
   "execution_count": 9,
   "id": "80271a45-a13a-48ec-8ed9-d63bf952b860",
   "metadata": {
    "execution": {
     "iopub.execute_input": "2025-03-25T08:42:18.820458Z",
     "iopub.status.busy": "2025-03-25T08:42:18.820458Z",
     "iopub.status.idle": "2025-03-25T08:42:19.281612Z",
     "shell.execute_reply": "2025-03-25T08:42:19.281612Z",
     "shell.execute_reply.started": "2025-03-25T08:42:18.820458Z"
    }
   },
   "outputs": [
    {
     "data": {
      "image/png": "[encoded data removed]",
      "text/plain": [
       "<Figure size 640x480 with 1 Axes>"
      ]
     },
     "metadata": {},
     "output_type": "display_data"
    }
   ],
   "source": [
    "forecaster.predict_residuals(y).plot()\n",
    "\n",
    "plt.show()"
   ]
  },
  {
   "cell_type": "code",
   "execution_count": 10,
   "id": "38d8f1e9-dc61-4ac7-a317-9ce763074c83",
   "metadata": {
    "execution": {
     "iopub.execute_input": "2025-03-25T08:48:18.894857Z",
     "iopub.status.busy": "2025-03-25T08:48:18.894857Z",
     "iopub.status.idle": "2025-03-25T08:48:20.568113Z",
     "shell.execute_reply": "2025-03-25T08:48:20.568113Z",
     "shell.execute_reply.started": "2025-03-25T08:48:18.894857Z"
    }
   },
   "outputs": [
    {
     "data": {
      "text/plain": [
       "{'intercept': np.float64(0.0019404499469396785),\n",
       " 'ar.L1': np.float64(0.6115582239435952),\n",
       " 'sigma2': np.float64(1.9712747511061015e-05),\n",
       " 'order': (1, 1, 0),\n",
       " 'seasonal_order': (0, 0, 0, 0),\n",
       " 'aic': np.float64(-2871.7689553428318),\n",
       " 'aicc': np.float64(-2871.701539612495),\n",
       " 'bic': np.float64(-2860.110643248481),\n",
       " 'hqic': np.float64(-2867.1333893985707)}"
      ]
     },
     "execution_count": 10,
     "metadata": {},
     "output_type": "execute_result"
    }
   ],
   "source": [
    "forecaster = AutoARIMA(information_criterion='bic', test='adf', seasonal=False, max_p = 10, max_q = 10)\n",
    "forecaster.fit(y)\n",
    "forecaster.get_fitted_params() #['order']"
   ]
  },
  {
   "cell_type": "code",
   "execution_count": null,
   "id": "d4ace318-2870-4b0c-b9a8-182b998246a3",
   "metadata": {},
   "outputs": [],
   "source": []
  }
 ],
 "metadata": {
  "kernelspec": {
   "display_name": "Python [conda env:courses]",
   "language": "python",
   "name": "conda-env-courses-py"
  },
  "language_info": {
   "codemirror_mode": {
    "name": "ipython",
    "version": 3
   },
   "file_extension": ".py",
   "mimetype": "text/x-python",
   "name": "python",
   "nbconvert_exporter": "python",
   "pygments_lexer": "ipython3",
   "version": "3.11.11"
  }
 },
 "nbformat": 4,
 "nbformat_minor": 5
}
