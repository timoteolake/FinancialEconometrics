{
 "cells": [
  {
   "cell_type": "code",
   "execution_count": 1,
   "id": "9b127e3b-2403-48c3-96b0-65789419d747",
   "metadata": {
    "execution": {
     "iopub.execute_input": "2025-04-22T07:17:45.044105Z",
     "iopub.status.busy": "2025-04-22T07:17:45.043075Z",
     "iopub.status.idle": "2025-04-22T07:17:46.291399Z",
     "shell.execute_reply": "2025-04-22T07:17:46.291399Z",
     "shell.execute_reply.started": "2025-04-22T07:17:45.044105Z"
    },
    "tags": []
   },
   "outputs": [],
   "source": [
    "import numpy as np\n",
    "import pandas as pd\n",
    "\n",
    "from statsmodels.tsa.seasonal import STL\n",
    "from statsmodels.tsa.filters.hp_filter import hpfilter\n",
    "from statsmodels.tsa.api import UnobservedComponents\n",
    "from sktime.performance_metrics.forecasting import MeanSquaredError, MeanAbsoluteError, MeanAbsolutePercentageError, MeanSquaredPercentageError # Метрики MSE, MAE, MAPE\n",
    "\n",
    "import pandas_datareader.data as web\n",
    "\n",
    "# настройки визуализация\n",
    "import matplotlib.pyplot as plt\n",
    "\n",
    "# Не показывать Warnings\n",
    "import warnings\n",
    "warnings.simplefilter(action='ignore', category=Warning)\n",
    "# Не показывать ValueWarning, ConvergenceWarning из statsmodels\n",
    "from statsmodels.tools.sm_exceptions import ValueWarning, ConvergenceWarning\n",
    "warnings.simplefilter('ignore', category=ValueWarning)\n",
    "warnings.simplefilter('ignore', category=ConvergenceWarning)"
   ]
  },
  {
   "cell_type": "code",
   "execution_count": 2,
   "id": "3a29033b-a0a5-413b-904b-33f795f54e94",
   "metadata": {
    "execution": {
     "iopub.execute_input": "2025-04-22T07:17:46.292399Z",
     "iopub.status.busy": "2025-04-22T07:17:46.291399Z",
     "iopub.status.idle": "2025-04-22T07:17:46.465022Z",
     "shell.execute_reply": "2025-04-22T07:17:46.463794Z",
     "shell.execute_reply.started": "2025-04-22T07:17:46.292399Z"
    },
    "tags": []
   },
   "outputs": [],
   "source": [
    "m2 = web.DataReader(name='M2NS', data_source='fred', start='2000-01-01')\n",
    "y = np.log(m2)"
   ]
  },
  {
   "cell_type": "code",
   "execution_count": 3,
   "id": "b99309bc-075c-4e0f-99d6-24b6a67b2a8b",
   "metadata": {
    "execution": {
     "iopub.execute_input": "2025-04-22T07:17:46.466020Z",
     "iopub.status.busy": "2025-04-22T07:17:46.466020Z",
     "iopub.status.idle": "2025-04-22T07:17:46.474207Z",
     "shell.execute_reply": "2025-04-22T07:17:46.474207Z",
     "shell.execute_reply.started": "2025-04-22T07:17:46.466020Z"
    },
    "tags": []
   },
   "outputs": [],
   "source": [
    "cycle, trend = hpfilter(y, lamb=14400)"
   ]
  },
  {
   "cell_type": "code",
   "execution_count": 4,
   "id": "e26a4b64-3348-42bf-a71c-7fd1b3134389",
   "metadata": {
    "execution": {
     "iopub.execute_input": "2025-04-22T07:17:46.476205Z",
     "iopub.status.busy": "2025-04-22T07:17:46.475208Z",
     "iopub.status.idle": "2025-04-22T07:17:46.495967Z",
     "shell.execute_reply": "2025-04-22T07:17:46.495967Z",
     "shell.execute_reply.started": "2025-04-22T07:17:46.476205Z"
    },
    "tags": []
   },
   "outputs": [],
   "source": [
    "stl = STL(y, seasonal=13)\n",
    "res = stl.fit()"
   ]
  },
  {
   "cell_type": "code",
   "execution_count": 5,
   "id": "3dd35f10-9c32-45ad-aa07-6d400b5d6a5d",
   "metadata": {
    "execution": {
     "iopub.execute_input": "2025-04-22T07:17:46.496969Z",
     "iopub.status.busy": "2025-04-22T07:17:46.496969Z",
     "iopub.status.idle": "2025-04-22T07:17:46.698526Z",
     "shell.execute_reply": "2025-04-22T07:17:46.698243Z",
     "shell.execute_reply.started": "2025-04-22T07:17:46.496969Z"
    },
    "tags": []
   },
   "outputs": [],
   "source": [
    "mod = UnobservedComponents(y, level=True, trend=True, seasonal=6, cycle=False, stochastic_level=True, stochastic_trend=True, stochastic_seasonal=True, stochastic_cycle=False)\n",
    "res_ss = mod.fit()\n",
    "# res.summary()"
   ]
  },
  {
   "cell_type": "code",
   "execution_count": 6,
   "id": "a25ed81d-7a36-4efa-9fe6-6e039a7ecffb",
   "metadata": {
    "execution": {
     "iopub.execute_input": "2025-04-22T07:17:46.699545Z",
     "iopub.status.busy": "2025-04-22T07:17:46.699545Z",
     "iopub.status.idle": "2025-04-22T07:17:46.708033Z",
     "shell.execute_reply": "2025-04-22T07:17:46.708033Z",
     "shell.execute_reply.started": "2025-04-22T07:17:46.699545Z"
    },
    "tags": []
   },
   "outputs": [
    {
     "data": {
      "text/plain": [
       "0.0010488488260528893"
      ]
     },
     "execution_count": 6,
     "metadata": {},
     "output_type": "execute_result"
    }
   ],
   "source": [
    "metric = MeanAbsolutePercentageError(symmetric = True)\n",
    "metric.evaluate(trend, res.trend)"
   ]
  },
  {
   "cell_type": "code",
   "execution_count": 7,
   "id": "f52cf947-fae7-4c95-a91b-b3fd4987069d",
   "metadata": {
    "execution": {
     "iopub.execute_input": "2025-04-22T07:17:46.709032Z",
     "iopub.status.busy": "2025-04-22T07:17:46.709032Z",
     "iopub.status.idle": "2025-04-22T07:17:46.724039Z",
     "shell.execute_reply": "2025-04-22T07:17:46.724039Z",
     "shell.execute_reply.started": "2025-04-22T07:17:46.709032Z"
    },
    "tags": []
   },
   "outputs": [
    {
     "data": {
      "text/plain": [
       "2.4382824090542733e-06"
      ]
     },
     "execution_count": 7,
     "metadata": {},
     "output_type": "execute_result"
    }
   ],
   "source": [
    "metric = MeanSquaredPercentageError(symmetric = True)\n",
    "metric.evaluate(trend, res.trend)"
   ]
  },
  {
   "cell_type": "code",
   "execution_count": 8,
   "id": "9a6e287b-e1c8-4eb6-882f-029c9e48ce64",
   "metadata": {
    "execution": {
     "iopub.execute_input": "2025-04-22T07:17:46.725126Z",
     "iopub.status.busy": "2025-04-22T07:17:46.725056Z",
     "iopub.status.idle": "2025-04-22T07:17:46.741679Z",
     "shell.execute_reply": "2025-04-22T07:17:46.741679Z",
     "shell.execute_reply.started": "2025-04-22T07:17:46.725126Z"
    },
    "tags": []
   },
   "outputs": [
    {
     "data": {
      "text/plain": [
       "0.009994600345546546"
      ]
     },
     "execution_count": 8,
     "metadata": {},
     "output_type": "execute_result"
    }
   ],
   "source": [
    "metric = MeanAbsoluteError()\n",
    "metric.evaluate(trend, res.trend)"
   ]
  },
  {
   "cell_type": "code",
   "execution_count": 9,
   "id": "aa2887a3-3936-49e9-9497-f3956f0223b9",
   "metadata": {
    "execution": {
     "iopub.execute_input": "2025-04-22T07:17:46.742678Z",
     "iopub.status.busy": "2025-04-22T07:17:46.742678Z",
     "iopub.status.idle": "2025-04-22T07:17:46.756554Z",
     "shell.execute_reply": "2025-04-22T07:17:46.756554Z",
     "shell.execute_reply.started": "2025-04-22T07:17:46.742678Z"
    },
    "tags": []
   },
   "outputs": [
    {
     "data": {
      "text/plain": [
       "0.0002290897989159859"
      ]
     },
     "execution_count": 9,
     "metadata": {},
     "output_type": "execute_result"
    }
   ],
   "source": [
    "metric = MeanSquaredError()\n",
    "metric.evaluate(trend, res.trend)"
   ]
  },
  {
   "cell_type": "code",
   "execution_count": 10,
   "id": "b3dd1bc9-fe50-47e0-863f-f0dba0dd89b3",
   "metadata": {
    "execution": {
     "iopub.execute_input": "2025-04-22T07:20:03.370937Z",
     "iopub.status.busy": "2025-04-22T07:20:03.369937Z",
     "iopub.status.idle": "2025-04-22T07:20:03.377573Z",
     "shell.execute_reply": "2025-04-22T07:20:03.377573Z",
     "shell.execute_reply.started": "2025-04-22T07:20:03.370937Z"
    },
    "tags": []
   },
   "outputs": [
    {
     "data": {
      "text/plain": [
       "array([8.45123141, 8.45313664, 8.4621752 , 8.47586255, 8.46364482,\n",
       "       8.46560108, 8.47275673, 8.48066365, 8.48399306, 8.48585925,\n",
       "       8.49492002, 8.50597664, 8.51498736, 8.52235079, 8.53613996,\n",
       "       8.54996652, 8.54112822, 8.5478087 , 8.55708602, 8.56547067,\n",
       "       8.58250669, 8.57873278, 8.59371378, 8.60506602, 8.6062986 ,\n",
       "       8.61134581, 8.61616306, 8.61771096, 8.61481856, 8.61830092,\n",
       "       8.62942594, 8.63855823, 8.63883093, 8.64472352, 8.6606755 ,\n",
       "       8.66531433, 8.66728098, 8.67350923, 8.67979868, 8.6882621 ,\n",
       "       8.69130258, 8.6970012 , 8.70795127, 8.71874168, 8.71015143,\n",
       "       8.70651216, 8.71446603, 8.71461567, 8.71186614, 8.71846288,\n",
       "       8.72741252, 8.73723328, 8.74260173, 8.74287618, 8.74754112,\n",
       "       8.75258147, 8.75369681, 8.75603427, 8.76699299, 8.77014303,\n",
       "       8.76718464, 8.76887089, 8.77405248, 8.77967478, 8.77536422,\n",
       "       8.77999533, 8.7866945 , 8.79190402, 8.79274403, 8.79581523,\n",
       "       8.80519761, 8.80981716, 8.81329189, 8.81737956, 8.82406703,\n",
       "       8.83237167, 8.82656933, 8.83104926, 8.83800919, 8.84230915,\n",
       "       8.84223014, 8.84740305, 8.85959422, 8.86680597, 8.87032448,\n",
       "       8.87348256, 8.88309774, 8.89436768, 8.88990953, 8.8925791 ,\n",
       "       8.89680276, 8.90638114, 8.90510645, 8.90571801, 8.91689239,\n",
       "       8.92259899, 8.92611713, 8.93873198, 8.95221897, 8.95735499,\n",
       "       8.95309459, 8.95273834, 8.95831439, 8.95950435, 8.96445373,\n",
       "       8.97654965, 8.99128989, 9.01499267, 9.02454345, 9.02960595,\n",
       "       9.04186361, 9.04100546, 9.04268784, 9.04083132, 9.04053822,\n",
       "       9.03951833, 9.03636316, 9.03901772, 9.05097566, 9.05259376,\n",
       "       9.04745701, 9.05417577, 9.05797633, 9.05993838, 9.06099862,\n",
       "       9.06019307, 9.06071075, 9.06556584, 9.06630561, 9.07235261,\n",
       "       9.08299065, 9.08913624, 9.09218387, 9.09783353, 9.10658754,\n",
       "       9.11182884, 9.11188266, 9.11804238, 9.13798228, 9.15982589,\n",
       "       9.15974512, 9.16387014, 9.17583137, 9.1823771 , 9.1895043 ,\n",
       "       9.19347532, 9.20108644, 9.20463318, 9.20111471, 9.20547039,\n",
       "       9.21375909, 9.22165557, 9.22715782, 9.2340241 , 9.24653464,\n",
       "       9.26122423, 9.26266518, 9.2616621 , 9.27142464, 9.2730619 ,\n",
       "       9.26898001, 9.27164744, 9.2790109 , 9.2856957 , 9.2879205 ,\n",
       "       9.29858214, 9.30586573, 9.31396111, 9.31739441, 9.32356213,\n",
       "       9.33052632, 9.33420134, 9.33235364, 9.33440326, 9.34306597,\n",
       "       9.34722823, 9.34730301, 9.35214823, 9.36195035, 9.37101262,\n",
       "       9.37467624, 9.38363401, 9.38872199, 9.39172561, 9.38684372,\n",
       "       9.38810449, 9.3961204 , 9.40234132, 9.40378417, 9.40558771,\n",
       "       9.41918327, 9.42623917, 9.43410401, 9.43870574, 9.44792341,\n",
       "       9.45426922, 9.45209885, 9.45498987, 9.46352402, 9.47252165,\n",
       "       9.47349952, 9.4769584 , 9.48865259, 9.49343332, 9.49582113,\n",
       "       9.49914119, 9.50897093, 9.51340304, 9.50991122, 9.5101243 ,\n",
       "       9.51853515, 9.52515832, 9.52490833, 9.52723616, 9.53547568,\n",
       "       9.54111034, 9.5389871 , 9.53952073, 9.54852615, 9.55026518,\n",
       "       9.5471738 , 9.55056212, 9.5568928 , 9.562372  , 9.56079423,\n",
       "       9.55992144, 9.56692076, 9.57709398, 9.57920384, 9.579221  ,\n",
       "       9.58698058, 9.58942282, 9.58933954, 9.5968443 , 9.60602277,\n",
       "       9.61305645, 9.615101  , 9.62246315, 9.63539716, 9.64198639,\n",
       "       9.64477711, 9.64536906, 9.68362949, 9.74547742, 9.7869097 ,\n",
       "       9.80233722, 9.8142569 , 9.81934769, 9.82728646, 9.83394913,\n",
       "       9.85238036, 9.86276216, 9.87282221, 9.8818788 , 9.89900075,\n",
       "       9.91390339, 9.91933033, 9.92191007, 9.93306376, 9.94383066,\n",
       "       9.94805223, 9.95493218, 9.96915435, 9.98079227, 9.9837543 ,\n",
       "       9.98301563, 9.991449  , 9.98998315, 9.97951577, 9.97723053,\n",
       "       9.98075533, 9.98094322, 9.97317032, 9.96772194, 9.97094329,\n",
       "       9.96888257, 9.96598168, 9.96035855, 9.95182349, 9.94199122,\n",
       "       9.93873956, 9.9370457 , 9.93974521, 9.93996516, 9.93477098,\n",
       "       9.93217801, 9.93916952, 9.94342182, 9.94570571, 9.9458708 ,\n",
       "       9.95336888, 9.95164729, 9.94869232, 9.95053837, 9.95502753,\n",
       "       9.96086535, 9.96070661, 9.96275456, 9.97525266, 9.98044131,\n",
       "       9.98387442, 9.98416358])"
      ]
     },
     "execution_count": 10,
     "metadata": {},
     "output_type": "execute_result"
    }
   ],
   "source": [
    "res_ss.level['smoothed']"
   ]
  },
  {
   "cell_type": "code",
   "execution_count": null,
   "id": "0064c704-bc6c-4de0-ba6f-57abdc969bbd",
   "metadata": {},
   "outputs": [],
   "source": []
  }
 ],
 "metadata": {
  "kernelspec": {
   "display_name": "Python [conda env:courses]",
   "language": "python",
   "name": "conda-env-courses-py"
  },
  "language_info": {
   "codemirror_mode": {
    "name": "ipython",
    "version": 3
   },
   "file_extension": ".py",
   "mimetype": "text/x-python",
   "name": "python",
   "nbconvert_exporter": "python",
   "pygments_lexer": "ipython3",
   "version": "3.11.9"
  }
 },
 "nbformat": 4,
 "nbformat_minor": 5
}
