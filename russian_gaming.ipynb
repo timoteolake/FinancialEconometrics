{
 "cells": [
  {
   "cell_type": "code",
   "execution_count": 1,
   "id": "2811ec98-b6aa-4cb6-a082-43c8838893b4",
   "metadata": {},
   "outputs": [],
   "source": [
    "import numpy as np\n",
    "import pandas as pd\n",
    "\n",
    "from sklearn.linear_model import LinearRegression\n",
    "from sktime.forecasting.arch import ARCH\n",
    "from sktime.utils.plotting import plot_series\n",
    "from sktime.forecasting.arima import ARIMA, AutoARIMA\n",
    "import statsmodels.formula.api as smf\n",
    "import statsmodels.api as sm\n",
    "import seaborn as sns\n",
    "# временной горизонт для прогнозирования\n",
    "from sktime.forecasting.base import ForecastingHorizon\n",
    "\n",
    "import pandas_datareader.data as web\n",
    "\n",
    "# настройки визуализации\n",
    "import matplotlib.pyplot as plt\n",
    "\n",
    "# Не показывать Warnings\n",
    "import warnings\n",
    "warnings.simplefilter(action='ignore', category=Warning)"
   ]
  },
  {
   "cell_type": "code",
   "execution_count": 2,
   "id": "9cbcaead-71c3-472a-b85b-806288a67767",
   "metadata": {
    "scrolled": true
   },
   "outputs": [
    {
     "data": {
      "text/html": [
       "<div>\n",
       "<style scoped>\n",
       "    .dataframe tbody tr th:only-of-type {\n",
       "        vertical-align: middle;\n",
       "    }\n",
       "\n",
       "    .dataframe tbody tr th {\n",
       "        vertical-align: top;\n",
       "    }\n",
       "\n",
       "    .dataframe thead th {\n",
       "        text-align: right;\n",
       "    }\n",
       "</style>\n",
       "<table border=\"1\" class=\"dataframe\">\n",
       "  <thead>\n",
       "    <tr style=\"text-align: right;\">\n",
       "      <th></th>\n",
       "      <th>year</th>\n",
       "      <th>market</th>\n",
       "      <th>pc</th>\n",
       "      <th>phone</th>\n",
       "      <th>console</th>\n",
       "      <th>usd</th>\n",
       "    </tr>\n",
       "  </thead>\n",
       "  <tbody>\n",
       "    <tr>\n",
       "      <th>0</th>\n",
       "      <td>2016</td>\n",
       "      <td>91</td>\n",
       "      <td>NaN</td>\n",
       "      <td>NaN</td>\n",
       "      <td>NaN</td>\n",
       "      <td>67.0014</td>\n",
       "    </tr>\n",
       "    <tr>\n",
       "      <th>1</th>\n",
       "      <td>2017</td>\n",
       "      <td>94</td>\n",
       "      <td>NaN</td>\n",
       "      <td>NaN</td>\n",
       "      <td>NaN</td>\n",
       "      <td>58.3446</td>\n",
       "    </tr>\n",
       "    <tr>\n",
       "      <th>2</th>\n",
       "      <td>2018</td>\n",
       "      <td>101</td>\n",
       "      <td>NaN</td>\n",
       "      <td>NaN</td>\n",
       "      <td>NaN</td>\n",
       "      <td>62.7414</td>\n",
       "    </tr>\n",
       "    <tr>\n",
       "      <th>3</th>\n",
       "      <td>2019</td>\n",
       "      <td>121</td>\n",
       "      <td>61.0</td>\n",
       "      <td>37.0</td>\n",
       "      <td>24.0</td>\n",
       "      <td>64.7155</td>\n",
       "    </tr>\n",
       "    <tr>\n",
       "      <th>4</th>\n",
       "      <td>2020</td>\n",
       "      <td>163</td>\n",
       "      <td>82.0</td>\n",
       "      <td>67.0</td>\n",
       "      <td>14.0</td>\n",
       "      <td>72.1791</td>\n",
       "    </tr>\n",
       "    <tr>\n",
       "      <th>5</th>\n",
       "      <td>2021</td>\n",
       "      <td>178</td>\n",
       "      <td>85.0</td>\n",
       "      <td>77.0</td>\n",
       "      <td>16.0</td>\n",
       "      <td>73.6552</td>\n",
       "    </tr>\n",
       "    <tr>\n",
       "      <th>6</th>\n",
       "      <td>2022</td>\n",
       "      <td>168</td>\n",
       "      <td>81.0</td>\n",
       "      <td>72.0</td>\n",
       "      <td>14.0</td>\n",
       "      <td>68.5386</td>\n",
       "    </tr>\n",
       "    <tr>\n",
       "      <th>7</th>\n",
       "      <td>2023</td>\n",
       "      <td>176</td>\n",
       "      <td>85.0</td>\n",
       "      <td>76.0</td>\n",
       "      <td>15.0</td>\n",
       "      <td>85.2997</td>\n",
       "    </tr>\n",
       "    <tr>\n",
       "      <th>8</th>\n",
       "      <td>2024</td>\n",
       "      <td>187</td>\n",
       "      <td>90.0</td>\n",
       "      <td>81.0</td>\n",
       "      <td>15.0</td>\n",
       "      <td>92.6225</td>\n",
       "    </tr>\n",
       "  </tbody>\n",
       "</table>\n",
       "</div>"
      ],
      "text/plain": [
       "   year  market    pc  phone  console      usd\n",
       "0  2016      91   NaN    NaN      NaN  67.0014\n",
       "1  2017      94   NaN    NaN      NaN  58.3446\n",
       "2  2018     101   NaN    NaN      NaN  62.7414\n",
       "3  2019     121  61.0   37.0     24.0  64.7155\n",
       "4  2020     163  82.0   67.0     14.0  72.1791\n",
       "5  2021     178  85.0   77.0     16.0  73.6552\n",
       "6  2022     168  81.0   72.0     14.0  68.5386\n",
       "7  2023     176  85.0   76.0     15.0  85.2997\n",
       "8  2024     187  90.0   81.0     15.0  92.6225"
      ]
     },
     "execution_count": 2,
     "metadata": {},
     "output_type": "execute_result"
    }
   ],
   "source": [
    "df = pd.read_excel('C:\\\\Users\\\\ф\\\\Desktop\\\\konvid.xlsx')\n",
    "df"
   ]
  },
  {
   "cell_type": "markdown",
   "id": "9bac4992-dc2d-41eb-92cc-9830c1ba54ec",
   "metadata": {},
   "source": [
    "# year - год\n",
    "# market - общий объём рынка видеоигр в России\n",
    "# pc - объём рынка ПК в России\n",
    "# phone - объём мобильного рынка в России\n",
    "# console - объём консольного рынка в России\n",
    "# usd - среднегодовой курс доллара согласно ЦБ РФ"
   ]
  },
  {
   "cell_type": "code",
   "execution_count": 3,
   "id": "8fa83fa4-06c0-44c4-b872-194dc84da094",
   "metadata": {},
   "outputs": [
    {
     "data": {
      "text/plain": [
       "<Axes: xlabel='usd', ylabel='market'>"
      ]
     },
     "execution_count": 3,
     "metadata": {},
     "output_type": "execute_result"
    },
    {
     "data": {
      "image/png": "[encoded data removed]",
      "text/plain": [
       "<Figure size 640x480 with 1 Axes>"
      ]
     },
     "metadata": {},
     "output_type": "display_data"
    }
   ],
   "source": [
    "sns.regplot(data=df, x='usd', y='market', ci=None, line_kws={\"color\": \"r\"})"
   ]
  },
  {
   "cell_type": "code",
   "execution_count": 4,
   "id": "936e56fd-4b93-4cf4-a8ce-361331db5ef2",
   "metadata": {},
   "outputs": [
    {
     "data": {
      "text/plain": [
       "Intercept   -65.37\n",
       "usd           2.89\n",
       "dtype: float64"
      ]
     },
     "execution_count": 4,
     "metadata": {},
     "output_type": "execute_result"
    }
   ],
   "source": [
    "fitted_line = smf.ols(formula='market~usd', data=df).fit()\n",
    "fitted_line.params.round(2)"
   ]
  },
  {
   "cell_type": "markdown",
   "id": "f76b5d3e-2fff-455d-b55d-af005b3dac8b",
   "metadata": {},
   "source": [
    "При увеличении курса доллара на 1 рубль, объём рынка видеоигр в России увеличивается примерно на 2,89 млрд руб."
   ]
  },
  {
   "cell_type": "code",
   "execution_count": 5,
   "id": "74f43ed6-96c9-4c54-a84e-da7be5b54957",
   "metadata": {},
   "outputs": [
    {
     "data": {
      "text/plain": [
       "Intercept    26.86\n",
       "usd           0.71\n",
       "dtype: float64"
      ]
     },
     "execution_count": 5,
     "metadata": {},
     "output_type": "execute_result"
    }
   ],
   "source": [
    "fitted_line = smf.ols(formula='pc~usd', data=df).fit()\n",
    "fitted_line.params.round(2)"
   ]
  },
  {
   "cell_type": "markdown",
   "id": "421c4e2a-f820-4f21-bdff-6a8450e83b47",
   "metadata": {},
   "source": [
    "При увеличении курса доллара на 1 рубль, объём ПК-гейминга в России увеличивается примерно на 0,71 млрд руб."
   ]
  },
  {
   "cell_type": "code",
   "execution_count": 6,
   "id": "3e286445-c04c-4d51-a170-b235e9e51a5e",
   "metadata": {},
   "outputs": [
    {
     "data": {
      "text/plain": [
       "Intercept   -11.49\n",
       "usd           1.05\n",
       "dtype: float64"
      ]
     },
     "execution_count": 6,
     "metadata": {},
     "output_type": "execute_result"
    }
   ],
   "source": [
    "fitted_line = smf.ols(formula='phone~usd', data=df).fit()\n",
    "fitted_line.params.round(2)"
   ]
  },
  {
   "cell_type": "markdown",
   "id": "a2cccb80-5f69-4e83-b8f3-7bf2a1edacd1",
   "metadata": {},
   "source": [
    "При увеличении курса доллара на 1 рубль, объём рынка мобильного гейминга в России увеличивается примерно на 1,05 млрд руб."
   ]
  },
  {
   "cell_type": "code",
   "execution_count": 7,
   "id": "c335f373-247d-4334-8998-2ce2ee93d413",
   "metadata": {},
   "outputs": [
    {
     "data": {
      "text/plain": [
       "Intercept    28.99\n",
       "usd          -0.17\n",
       "dtype: float64"
      ]
     },
     "execution_count": 7,
     "metadata": {},
     "output_type": "execute_result"
    }
   ],
   "source": [
    "fitted_line = smf.ols(formula='console~usd', data=df).fit()\n",
    "fitted_line.params.round(2)"
   ]
  },
  {
   "cell_type": "markdown",
   "id": "6d0d7b7c-e83b-4465-ad97-a7f41a80e60f",
   "metadata": {},
   "source": [
    "При увеличении курса доллара на 1 рубль, объём консольного гейминга в России уменьшается примерно на 0,17 млрд руб."
   ]
  },
  {
   "cell_type": "code",
   "execution_count": 8,
   "id": "f884dcbc-ee84-40db-9f46-8a55853413cd",
   "metadata": {},
   "outputs": [],
   "source": [
    "X = sm.add_constant(df['year'])  # добавим свободный член\n",
    "y = df['market']\n",
    "model_year = sm.OLS(y, X).fit()"
   ]
  },
  {
   "cell_type": "code",
   "execution_count": 9,
   "id": "daef2104-0384-48bb-bae4-1927e38a3da0",
   "metadata": {},
   "outputs": [],
   "source": [
    "future_years = pd.DataFrame({'year': list(range(2025, 2031))})\n",
    "X_future = sm.add_constant(future_years)"
   ]
  },
  {
   "cell_type": "code",
   "execution_count": 10,
   "id": "0f32792b-e1b1-4d69-8882-876a450a3096",
   "metadata": {},
   "outputs": [],
   "source": [
    "future_years['forecast_year'] = model_year.predict(X_future)"
   ]
  },
  {
   "cell_type": "code",
   "execution_count": 11,
   "id": "9f5118e7-7d25-478e-850e-10f86f267496",
   "metadata": {
    "scrolled": true
   },
   "outputs": [
    {
     "name": "stdout",
     "output_type": "stream",
     "text": [
      "   year  forecast_year\n",
      "0  2025          211.0\n",
      "1  2026          224.0\n",
      "2  2027          238.0\n",
      "3  2028          252.0\n",
      "4  2029          265.0\n",
      "5  2030          279.0\n"
     ]
    }
   ],
   "source": [
    "print(future_years.round(0))"
   ]
  },
  {
   "cell_type": "code",
   "execution_count": 12,
   "id": "3991f641-4b64-4cb2-a2b5-3559df096ca1",
   "metadata": {},
   "outputs": [],
   "source": [
    "Z = sm.add_constant(df['usd'])"
   ]
  },
  {
   "cell_type": "code",
   "execution_count": 13,
   "id": "ccc61032-5ec9-46d9-bd75-f8a9f2806e0c",
   "metadata": {},
   "outputs": [],
   "source": [
    "model_usd = sm.OLS(y, Z).fit()"
   ]
  },
  {
   "cell_type": "code",
   "execution_count": 14,
   "id": "24c1168a-e420-415a-a3bb-e1adc1389d41",
   "metadata": {},
   "outputs": [],
   "source": [
    "future_course = pd.DataFrame({'usd': [70, 80, 90, 100, 110, 130, 150]})\n",
    "Z_future = sm.add_constant(future_course)"
   ]
  },
  {
   "cell_type": "code",
   "execution_count": 15,
   "id": "87148cbf-a384-4455-afe9-d2ab483e6cec",
   "metadata": {},
   "outputs": [],
   "source": [
    "future_course['forecast_usd'] = model_usd.predict(Z_future)"
   ]
  },
  {
   "cell_type": "code",
   "execution_count": 16,
   "id": "e83d746a-590f-4176-8f6a-9ce90bfa1bd0",
   "metadata": {},
   "outputs": [
    {
     "name": "stdout",
     "output_type": "stream",
     "text": [
      "   usd  forecast_usd\n",
      "0   70         137.0\n",
      "1   80         166.0\n",
      "2   90         195.0\n",
      "3  100         224.0\n",
      "4  110         253.0\n",
      "5  130         311.0\n",
      "6  150         369.0\n"
     ]
    }
   ],
   "source": [
    "print(future_course.round(0))"
   ]
  },
  {
   "cell_type": "code",
   "execution_count": 17,
   "id": "72616e9b-4e9f-4228-abc5-0d1f71a53e2f",
   "metadata": {},
   "outputs": [
    {
     "data": {
      "text/plain": [
       "{'intercept': 25.811277236393728,\n",
       " 'ar.L1': 1.4305493835089695,\n",
       " 'ar.L2': -0.6099647443351557,\n",
       " 'sigma2': 201.79195597226365,\n",
       " 'order': (2, 0, 0),\n",
       " 'seasonal_order': (0, 0, 0, 0),\n",
       " 'aic': 83.79500895604394,\n",
       " 'aicc': 93.79500895604394,\n",
       " 'bic': 84.58390726538882,\n",
       " 'hqic': 82.0925690214571}"
      ]
     },
     "execution_count": 17,
     "metadata": {},
     "output_type": "execute_result"
    }
   ],
   "source": [
    "forecaster = AutoARIMA(information_criterion='bic', test='kpss', seasonal=False)\n",
    "forecaster.fit(y)\n",
    "forecaster.get_fitted_params()"
   ]
  },
  {
   "cell_type": "code",
   "execution_count": 18,
   "id": "774d49ad-6d2f-49e3-8db2-9dd9a2cb1687",
   "metadata": {},
   "outputs": [
    {
     "data": {
      "text/html": [
       "<table class=\"simpletable\">\n",
       "<caption>SARIMAX Results</caption>\n",
       "<tr>\n",
       "  <th>Dep. Variable:</th>           <td>y</td>        <th>  No. Observations:  </th>    <td>9</td>   \n",
       "</tr>\n",
       "<tr>\n",
       "  <th>Model:</th>           <td>SARIMAX(2, 0, 0)</td> <th>  Log Likelihood     </th> <td>-39.758</td>\n",
       "</tr>\n",
       "<tr>\n",
       "  <th>Date:</th>            <td>Sun, 04 May 2025</td> <th>  AIC                </th> <td>85.515</td> \n",
       "</tr>\n",
       "<tr>\n",
       "  <th>Time:</th>                <td>22:30:57</td>     <th>  BIC                </th> <td>86.107</td> \n",
       "</tr>\n",
       "<tr>\n",
       "  <th>Sample:</th>                  <td>0</td>        <th>  HQIC               </th> <td>84.239</td> \n",
       "</tr>\n",
       "<tr>\n",
       "  <th></th>                       <td> - 9</td>       <th>                     </th>    <td> </td>   \n",
       "</tr>\n",
       "<tr>\n",
       "  <th>Covariance Type:</th>        <td>opg</td>       <th>                     </th>    <td> </td>   \n",
       "</tr>\n",
       "</table>\n",
       "<table class=\"simpletable\">\n",
       "<tr>\n",
       "     <td></td>       <th>coef</th>     <th>std err</th>      <th>z</th>      <th>P>|z|</th>  <th>[0.025</th>    <th>0.975]</th>  \n",
       "</tr>\n",
       "<tr>\n",
       "  <th>ar.L1</th>  <td>    1.4952</td> <td>    0.667</td> <td>    2.242</td> <td> 0.025</td> <td>    0.188</td> <td>    2.802</td>\n",
       "</tr>\n",
       "<tr>\n",
       "  <th>ar.L2</th>  <td>   -0.5057</td> <td>    0.681</td> <td>   -0.743</td> <td> 0.457</td> <td>   -1.839</td> <td>    0.828</td>\n",
       "</tr>\n",
       "<tr>\n",
       "  <th>sigma2</th> <td>  234.2500</td> <td>  234.865</td> <td>    0.997</td> <td> 0.319</td> <td> -226.076</td> <td>  694.576</td>\n",
       "</tr>\n",
       "</table>\n",
       "<table class=\"simpletable\">\n",
       "<tr>\n",
       "  <th>Ljung-Box (L1) (Q):</th>     <td>0.01</td> <th>  Jarque-Bera (JB):  </th> <td>0.01</td>\n",
       "</tr>\n",
       "<tr>\n",
       "  <th>Prob(Q):</th>                <td>0.90</td> <th>  Prob(JB):          </th> <td>1.00</td>\n",
       "</tr>\n",
       "<tr>\n",
       "  <th>Heteroskedasticity (H):</th> <td>3.96</td> <th>  Skew:              </th> <td>0.06</td>\n",
       "</tr>\n",
       "<tr>\n",
       "  <th>Prob(H) (two-sided):</th>    <td>0.29</td> <th>  Kurtosis:          </th> <td>2.94</td>\n",
       "</tr>\n",
       "</table><br/><br/>Warnings:<br/>[1] Covariance matrix calculated using the outer product of gradients (complex-step)."
      ],
      "text/latex": [
       "\\begin{center}\n",
       "\\begin{tabular}{lclc}\n",
       "\\toprule\n",
       "\\textbf{Dep. Variable:}          &        y         & \\textbf{  No. Observations:  } &     9       \\\\\n",
       "\\textbf{Model:}                  & SARIMAX(2, 0, 0) & \\textbf{  Log Likelihood     } &  -39.758    \\\\\n",
       "\\textbf{Date:}                   & Sun, 04 May 2025 & \\textbf{  AIC                } &   85.515    \\\\\n",
       "\\textbf{Time:}                   &     22:30:57     & \\textbf{  BIC                } &   86.107    \\\\\n",
       "\\textbf{Sample:}                 &        0         & \\textbf{  HQIC               } &   84.239    \\\\\n",
       "\\textbf{}                        &        - 9       & \\textbf{                     } &             \\\\\n",
       "\\textbf{Covariance Type:}        &       opg        & \\textbf{                     } &             \\\\\n",
       "\\bottomrule\n",
       "\\end{tabular}\n",
       "\\begin{tabular}{lcccccc}\n",
       "                & \\textbf{coef} & \\textbf{std err} & \\textbf{z} & \\textbf{P$> |$z$|$} & \\textbf{[0.025} & \\textbf{0.975]}  \\\\\n",
       "\\midrule\n",
       "\\textbf{ar.L1}  &       1.4952  &        0.667     &     2.242  &         0.025        &        0.188    &        2.802     \\\\\n",
       "\\textbf{ar.L2}  &      -0.5057  &        0.681     &    -0.743  &         0.457        &       -1.839    &        0.828     \\\\\n",
       "\\textbf{sigma2} &     234.2500  &      234.865     &     0.997  &         0.319        &     -226.076    &      694.576     \\\\\n",
       "\\bottomrule\n",
       "\\end{tabular}\n",
       "\\begin{tabular}{lclc}\n",
       "\\textbf{Ljung-Box (L1) (Q):}     & 0.01 & \\textbf{  Jarque-Bera (JB):  } & 0.01  \\\\\n",
       "\\textbf{Prob(Q):}                & 0.90 & \\textbf{  Prob(JB):          } & 1.00  \\\\\n",
       "\\textbf{Heteroskedasticity (H):} & 3.96 & \\textbf{  Skew:              } & 0.06  \\\\\n",
       "\\textbf{Prob(H) (two-sided):}    & 0.29 & \\textbf{  Kurtosis:          } & 2.94  \\\\\n",
       "\\bottomrule\n",
       "\\end{tabular}\n",
       "%\\caption{SARIMAX Results}\n",
       "\\end{center}\n",
       "\n",
       "Warnings: \\newline\n",
       " [1] Covariance matrix calculated using the outer product of gradients (complex-step)."
      ],
      "text/plain": [
       "<class 'statsmodels.iolib.summary.Summary'>\n",
       "\"\"\"\n",
       "                               SARIMAX Results                                \n",
       "==============================================================================\n",
       "Dep. Variable:                      y   No. Observations:                    9\n",
       "Model:               SARIMAX(2, 0, 0)   Log Likelihood                 -39.758\n",
       "Date:                Sun, 04 May 2025   AIC                             85.515\n",
       "Time:                        22:30:57   BIC                             86.107\n",
       "Sample:                             0   HQIC                            84.239\n",
       "                                  - 9                                         \n",
       "Covariance Type:                  opg                                         \n",
       "==============================================================================\n",
       "                 coef    std err          z      P>|z|      [0.025      0.975]\n",
       "------------------------------------------------------------------------------\n",
       "ar.L1          1.4952      0.667      2.242      0.025       0.188       2.802\n",
       "ar.L2         -0.5057      0.681     -0.743      0.457      -1.839       0.828\n",
       "sigma2       234.2500    234.865      0.997      0.319    -226.076     694.576\n",
       "===================================================================================\n",
       "Ljung-Box (L1) (Q):                   0.01   Jarque-Bera (JB):                 0.01\n",
       "Prob(Q):                              0.90   Prob(JB):                         1.00\n",
       "Heteroskedasticity (H):               3.96   Skew:                             0.06\n",
       "Prob(H) (two-sided):                  0.29   Kurtosis:                         2.94\n",
       "===================================================================================\n",
       "\n",
       "Warnings:\n",
       "[1] Covariance matrix calculated using the outer product of gradients (complex-step).\n",
       "\"\"\""
      ]
     },
     "execution_count": 18,
     "metadata": {},
     "output_type": "execute_result"
    }
   ],
   "source": [
    "forecaster = ARIMA(order=(2,0,0), trend='n')\n",
    "forecaster.fit(y)\n",
    "forecaster.summary()"
   ]
  },
  {
   "cell_type": "code",
   "execution_count": 19,
   "id": "da23b566-4c92-4e6b-95f6-3a462a78781a",
   "metadata": {},
   "outputs": [
    {
     "data": {
      "text/plain": [
       "9     191.0\n",
       "10    190.0\n",
       "11    188.0\n",
       "12    185.0\n",
       "13    182.0\n",
       "14    178.0\n",
       "Name: market, dtype: float64"
      ]
     },
     "execution_count": 19,
     "metadata": {},
     "output_type": "execute_result"
    }
   ],
   "source": [
    "fh = ForecastingHorizon(np.arange(1,7), freq ='Y')\n",
    "y_pred = forecaster.fit_predict(y=y, fh=fh)\n",
    "y_pred.round(0)"
   ]
  },
  {
   "cell_type": "code",
   "execution_count": 20,
   "id": "dc28010c-1e60-41cd-b4ca-5fc73f319bad",
   "metadata": {},
   "outputs": [
    {
     "data": {
      "text/html": [
       "<table class=\"simpletable\">\n",
       "<caption>AR - GARCH Model Results</caption>\n",
       "<tr>\n",
       "  <th>Dep. Variable:</th>       <td>market</td>       <th>  R-squared:         </th>  <td>   0.849</td> \n",
       "</tr>\n",
       "<tr>\n",
       "  <th>Mean Model:</th>            <td>AR</td>         <th>  Adj. R-squared:    </th>  <td>   0.824</td> \n",
       "</tr>\n",
       "<tr>\n",
       "  <th>Vol Model:</th>            <td>GARCH</td>       <th>  Log-Likelihood:    </th> <td>  -32.1721</td>\n",
       "</tr>\n",
       "<tr>\n",
       "  <th>Distribution:</th>        <td>Normal</td>       <th>  AIC:               </th> <td>   74.3442</td>\n",
       "</tr>\n",
       "<tr>\n",
       "  <th>Method:</th>        <td>Maximum Likelihood</td> <th>  BIC:               </th> <td>   74.7414</td>\n",
       "</tr>\n",
       "<tr>\n",
       "  <th></th>                        <td></td>          <th>  No. Observations:  </th>      <td>8</td>    \n",
       "</tr>\n",
       "<tr>\n",
       "  <th>Date:</th>           <td>Sun, May 04 2025</td>  <th>  Df Residuals:      </th>      <td>6</td>    \n",
       "</tr>\n",
       "<tr>\n",
       "  <th>Time:</th>               <td>22:30:58</td>      <th>  Df Model:          </th>      <td>2</td>    \n",
       "</tr>\n",
       "</table>\n",
       "<table class=\"simpletable\">\n",
       "<caption>Mean Model</caption>\n",
       "<tr>\n",
       "      <td></td>         <th>coef</th>     <th>std err</th>      <th>t</th>       <th>P>|t|</th>   <th>95.0% Conf. Int.</th> \n",
       "</tr>\n",
       "<tr>\n",
       "  <th>Const</th>     <td>   26.8460</td> <td>   18.839</td> <td>    1.425</td> <td>    0.154</td> <td>[-10.077, 63.769]</td>\n",
       "</tr>\n",
       "<tr>\n",
       "  <th>market[1]</th> <td>    0.8914</td> <td>    0.127</td> <td>    7.039</td> <td>1.930e-12</td> <td>[  0.643,  1.140]</td>\n",
       "</tr>\n",
       "</table>\n",
       "<table class=\"simpletable\">\n",
       "<caption>Volatility Model</caption>\n",
       "<tr>\n",
       "      <td></td>        <th>coef</th>     <th>std err</th>      <th>t</th>       <th>P>|t|</th>      <th>95.0% Conf. Int.</th>   \n",
       "</tr>\n",
       "<tr>\n",
       "  <th>omega</th>    <td>   91.0968</td> <td>  360.105</td> <td>    0.253</td> <td>    0.800</td> <td>[-6.147e+02,7.969e+02]</td>\n",
       "</tr>\n",
       "<tr>\n",
       "  <th>alpha[1]</th>   <td>0.0000</td>   <td>8.622e-02</td>   <td>0.000</td>   <td>    1.000</td>    <td>[ -0.169,  0.169]</td>  \n",
       "</tr>\n",
       "<tr>\n",
       "  <th>beta[1]</th>  <td>    0.5000</td> <td>    2.039</td> <td>    0.245</td> <td>    0.806</td>    <td>[ -3.496,  4.496]</td>  \n",
       "</tr>\n",
       "</table><br/><br/>Covariance estimator: robust"
      ],
      "text/latex": [
       "\\begin{center}\n",
       "\\begin{tabular}{lclc}\n",
       "\\toprule\n",
       "\\textbf{Dep. Variable:} &       market       & \\textbf{  R-squared:         } &     0.849   \\\\\n",
       "\\textbf{Mean Model:}    &         AR         & \\textbf{  Adj. R-squared:    } &     0.824   \\\\\n",
       "\\textbf{Vol Model:}     &       GARCH        & \\textbf{  Log-Likelihood:    } &   -32.1721  \\\\\n",
       "\\textbf{Distribution:}  &       Normal       & \\textbf{  AIC:               } &    74.3442  \\\\\n",
       "\\textbf{Method:}        & Maximum Likelihood & \\textbf{  BIC:               } &    74.7414  \\\\\n",
       "\\textbf{}               &                    & \\textbf{  No. Observations:  } &     8       \\\\\n",
       "\\textbf{Date:}          &  Sun, May 04 2025  & \\textbf{  Df Residuals:      } &     6       \\\\\n",
       "\\textbf{Time:}          &      22:30:58      & \\textbf{  Df Model:          } &     2       \\\\\n",
       "\\bottomrule\n",
       "\\end{tabular}\n",
       "\\begin{tabular}{lccccc}\n",
       "                   & \\textbf{coef} & \\textbf{std err} & \\textbf{t} & \\textbf{P$> |$t$|$} & \\textbf{95.0\\% Conf. Int.}  \\\\\n",
       "\\midrule\n",
       "\\textbf{Const}     &      26.8460  &       18.839     &     1.425  &          0.154       &     [-10.077, 63.769]       \\\\\n",
       "\\textbf{market[1]} &       0.8914  &        0.127     &     7.039  &      1.930e-12       &     [  0.643,  1.140]       \\\\\n",
       "                  & \\textbf{coef} & \\textbf{std err} & \\textbf{t} & \\textbf{P$> |$t$|$} & \\textbf{95.0\\% Conf. Int.}  \\\\\n",
       "\\midrule\n",
       "\\textbf{omega}    &      91.0968  &      360.105     &     0.253  &          0.800       &   [-6.147e+02,7.969e+02]    \\\\\n",
       "\\textbf{alpha[1]} &     0.0000    &    8.622e-02     &   0.000    &          1.000       &     [ -0.169,  0.169]       \\\\\n",
       "\\textbf{beta[1]}  &       0.5000  &        2.039     &     0.245  &          0.806       &     [ -3.496,  4.496]       \\\\\n",
       "\\bottomrule\n",
       "\\end{tabular}\n",
       "%\\caption{AR - GARCH Model Results}\n",
       "\\end{center}\n",
       "\n",
       "Covariance estimator: robust"
      ],
      "text/plain": [
       "<class 'statsmodels.iolib.summary.Summary'>\n",
       "\"\"\"\n",
       "                           AR - GARCH Model Results                           \n",
       "==============================================================================\n",
       "Dep. Variable:                 market   R-squared:                       0.849\n",
       "Mean Model:                        AR   Adj. R-squared:                  0.824\n",
       "Vol Model:                      GARCH   Log-Likelihood:               -32.1721\n",
       "Distribution:                  Normal   AIC:                           74.3442\n",
       "Method:            Maximum Likelihood   BIC:                           74.7414\n",
       "                                        No. Observations:                    8\n",
       "Date:                Sun, May 04 2025   Df Residuals:                        6\n",
       "Time:                        22:30:58   Df Model:                            2\n",
       "                               Mean Model                               \n",
       "========================================================================\n",
       "                 coef    std err          t      P>|t|  95.0% Conf. Int.\n",
       "------------------------------------------------------------------------\n",
       "Const         26.8460     18.839      1.425      0.154 [-10.077, 63.769]\n",
       "market[1]      0.8914      0.127      7.039  1.930e-12 [  0.643,  1.140]\n",
       "                               Volatility Model                              \n",
       "=============================================================================\n",
       "                 coef    std err          t      P>|t|       95.0% Conf. Int.\n",
       "-----------------------------------------------------------------------------\n",
       "omega         91.0968    360.105      0.253      0.800 [-6.147e+02,7.969e+02]\n",
       "alpha[1]       0.0000  8.622e-02      0.000      1.000      [ -0.169,  0.169]\n",
       "beta[1]        0.5000      2.039      0.245      0.806      [ -3.496,  4.496]\n",
       "=============================================================================\n",
       "\n",
       "Covariance estimator: robust\n",
       "\"\"\""
      ]
     },
     "execution_count": 20,
     "metadata": {},
     "output_type": "execute_result"
    }
   ],
   "source": [
    "forecaster = ARCH(mean='AR', lags=1, vol='GARCH', p=1, q=1, power=2)  \n",
    "forecaster.fit(y)\n",
    "forecaster.summary()"
   ]
  },
  {
   "cell_type": "code",
   "execution_count": 21,
   "id": "4f8a91e4-dcb6-4780-aa0d-b0535f05e1e3",
   "metadata": {},
   "outputs": [
    {
     "data": {
      "text/plain": [
       "9     194.0\n",
       "10    199.0\n",
       "11    205.0\n",
       "12    209.0\n",
       "13    213.0\n",
       "14    217.0\n",
       "Name: market, dtype: float64"
      ]
     },
     "execution_count": 21,
     "metadata": {},
     "output_type": "execute_result"
    }
   ],
   "source": [
    "fh = ForecastingHorizon(np.arange(1,7), freq ='Y')\n",
    "y_pred = forecaster.fit_predict(y=y, fh=fh)\n",
    "y_pred.round(0)"
   ]
  },
  {
   "cell_type": "code",
   "execution_count": null,
   "id": "d026514c-643d-4657-b07a-6bb824ed05de",
   "metadata": {},
   "outputs": [],
   "source": []
  }
 ],
 "metadata": {
  "kernelspec": {
   "display_name": "Python 3 (ipykernel)",
   "language": "python",
   "name": "python3"
  },
  "language_info": {
   "codemirror_mode": {
    "name": "ipython",
    "version": 3
   },
   "file_extension": ".py",
   "mimetype": "text/x-python",
   "name": "python",
   "nbconvert_exporter": "python",
   "pygments_lexer": "ipython3",
   "version": "3.12.7"
  }
 },
 "nbformat": 4,
 "nbformat_minor": 5
}
