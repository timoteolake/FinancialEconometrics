{
 "cells": [
  {
   "cell_type": "code",
   "execution_count": 21,
   "id": "e2f913af-0864-4211-a56d-3971154062a6",
   "metadata": {
    "execution": {
     "iopub.execute_input": "2025-04-08T07:10:29.181299Z",
     "iopub.status.busy": "2025-04-08T07:10:29.180305Z",
     "iopub.status.idle": "2025-04-08T07:10:29.187054Z",
     "shell.execute_reply": "2025-04-08T07:10:29.186712Z",
     "shell.execute_reply.started": "2025-04-08T07:10:29.180305Z"
    },
    "tags": []
   },
   "outputs": [],
   "source": [
    "import numpy as np\n",
    "import pandas as pd\n",
    "\n",
    "from sktime.forecasting.arima import ARIMA, AutoARIMA\n",
    "from sktime.forecasting.neuralforecast import NeuralForecastRNN, NeuralForecastLSTM\n",
    "from sktime.split import temporal_train_test_split\n",
    "from sktime.utils.plotting import plot_series\n",
    "\n",
    "import pandas_datareader.data as web\n",
    "\n",
    "# настройки визуализации\n",
    "import matplotlib.pyplot as plt\n",
    "\n",
    "# Не показывать Warnings\n",
    "import warnings\n",
    "warnings.simplefilter(action='ignore', category=Warning)\n",
    "# Не показывать ValueWarning, ConvergenceWarning из statsmodels\n",
    "from statsmodels.tools.sm_exceptions import ValueWarning, ConvergenceWarning\n",
    "warnings.simplefilter('ignore', category=ValueWarning)\n",
    "warnings.simplefilter('ignore', category=ConvergenceWarning)"
   ]
  },
  {
   "cell_type": "code",
   "execution_count": 22,
   "id": "92e84713-09a4-4a5f-84ba-32ddd4246131",
   "metadata": {
    "execution": {
     "iopub.execute_input": "2025-04-08T07:10:29.189722Z",
     "iopub.status.busy": "2025-04-08T07:10:29.188771Z",
     "iopub.status.idle": "2025-04-08T07:10:29.447202Z",
     "shell.execute_reply": "2025-04-08T07:10:29.447202Z",
     "shell.execute_reply.started": "2025-04-08T07:10:29.189722Z"
    },
    "tags": []
   },
   "outputs": [],
   "source": [
    "m2 = web.DataReader(name='WM2NS', data_source='fred', start='1995-01-01')\n",
    "y = np.log(m2) #лог доходность #dropna сбрасывает нулевые значения чтобы было без ошибок"
   ]
  },
  {
   "cell_type": "code",
   "execution_count": 23,
   "id": "3a66e8fd-33d7-4b25-8a73-6d64bb0979d3",
   "metadata": {
    "execution": {
     "iopub.execute_input": "2025-04-08T07:10:29.448207Z",
     "iopub.status.busy": "2025-04-08T07:10:29.448207Z",
     "iopub.status.idle": "2025-04-08T07:10:29.617156Z",
     "shell.execute_reply": "2025-04-08T07:10:29.617156Z",
     "shell.execute_reply.started": "2025-04-08T07:10:29.448207Z"
    },
    "tags": []
   },
   "outputs": [
    {
     "data": {
      "text/plain": [
       "<Axes: xlabel='DATE'>"
      ]
     },
     "execution_count": 23,
     "metadata": {},
     "output_type": "execute_result"
    },
    {
     "data": {
      "image/png": "[encoded data removed]",
      "text/plain": [
       "<Figure size 640x480 with 1 Axes>"
      ]
     },
     "metadata": {},
     "output_type": "display_data"
    }
   ],
   "source": [
    "y.plot()"
   ]
  },
  {
   "cell_type": "code",
   "execution_count": 24,
   "id": "7f169fbc-1b64-4979-a800-08458e10aa6a",
   "metadata": {
    "execution": {
     "iopub.execute_input": "2025-04-08T07:10:29.617156Z",
     "iopub.status.busy": "2025-04-08T07:10:29.617156Z",
     "iopub.status.idle": "2025-04-08T07:10:59.482261Z",
     "shell.execute_reply": "2025-04-08T07:10:59.481993Z",
     "shell.execute_reply.started": "2025-04-08T07:10:29.617156Z"
    },
    "tags": []
   },
   "outputs": [
    {
     "data": {
      "text/plain": [
       "{'intercept': 0.003584598465323833,\n",
       " 'ar.L1': -0.5415609916342747,\n",
       " 'ar.L2': -0.7826462060566242,\n",
       " 'ar.L3': -0.7735125809629044,\n",
       " 'ma.L1': 0.5145394272476185,\n",
       " 'ma.L2': 0.9459056549086672,\n",
       " 'ma.L3': 0.6059334706950275,\n",
       " 'ma.L4': 0.23084347569974611,\n",
       " 'sigma2': 1.6199129886206105e-05,\n",
       " 'order': (3, 1, 4),\n",
       " 'seasonal_order': (0, 0, 0, 0),\n",
       " 'aic': -12871.684921948054,\n",
       " 'aicc': -12871.569832433986,\n",
       " 'bic': -12823.432543087258,\n",
       " 'hqic': -12853.752479652125}"
      ]
     },
     "execution_count": 24,
     "metadata": {},
     "output_type": "execute_result"
    }
   ],
   "source": [
    "forecaster = AutoARIMA(information_criterion='bic', test='kpss', seasonal=False)\n",
    "forecaster.fit(y)\n",
    "forecaster.get_fitted_params() #['order']"
   ]
  },
  {
   "cell_type": "code",
   "execution_count": 25,
   "id": "7beef215-34e7-4e73-86e4-e3408808e0de",
   "metadata": {
    "execution": {
     "iopub.execute_input": "2025-04-08T07:10:59.485107Z",
     "iopub.status.busy": "2025-04-08T07:10:59.484046Z",
     "iopub.status.idle": "2025-04-08T07:10:59.490198Z",
     "shell.execute_reply": "2025-04-08T07:10:59.490198Z",
     "shell.execute_reply.started": "2025-04-08T07:10:59.485107Z"
    },
    "tags": []
   },
   "outputs": [],
   "source": [
    "y_train, y_test = temporal_train_test_split(y, test_size=20)"
   ]
  },
  {
   "cell_type": "code",
   "execution_count": 26,
   "id": "5b1ee2bb-c252-4e10-a5ef-5f1a5e2e87fa",
   "metadata": {
    "execution": {
     "iopub.execute_input": "2025-04-08T07:10:59.490198Z",
     "iopub.status.busy": "2025-04-08T07:10:59.490198Z",
     "iopub.status.idle": "2025-04-08T07:11:01.407450Z",
     "shell.execute_reply": "2025-04-08T07:11:01.407450Z",
     "shell.execute_reply.started": "2025-04-08T07:10:59.490198Z"
    },
    "tags": []
   },
   "outputs": [],
   "source": [
    "forecaster = ARIMA(order=(3,1,4), trend='c')\n",
    "y_pred_arima = forecaster.fit_predict(y_train, fh=y_test.index)"
   ]
  },
  {
   "cell_type": "code",
   "execution_count": 27,
   "id": "494fc370-1bb1-45bc-ba30-e026e5230188",
   "metadata": {
    "execution": {
     "iopub.execute_input": "2025-04-08T07:11:01.407450Z",
     "iopub.status.busy": "2025-04-08T07:11:01.407450Z",
     "iopub.status.idle": "2025-04-08T07:11:05.736922Z",
     "shell.execute_reply": "2025-04-08T07:11:05.736922Z",
     "shell.execute_reply.started": "2025-04-08T07:11:01.407450Z"
    },
    "tags": []
   },
   "outputs": [
    {
     "name": "stderr",
     "output_type": "stream",
     "text": [
      "Seed set to 1\n",
      "GPU available: False, used: False\n",
      "TPU available: False, using: 0 TPU cores\n",
      "HPU available: False, using: 0 HPUs\n",
      "\n",
      "  | Name            | Type          | Params | Mode \n",
      "----------------------------------------------------------\n",
      "0 | loss            | MAE           | 0      | train\n",
      "1 | padder          | ConstantPad1d | 0      | train\n",
      "2 | scaler          | TemporalNorm  | 0      | train\n",
      "3 | hist_encoder    | RNN           | 121 K  | train\n",
      "4 | context_adapter | Linear        | 40.2 K | train\n",
      "5 | mlp_decoder     | MLP           | 2.4 K  | train\n",
      "----------------------------------------------------------\n",
      "163 K     Trainable params\n",
      "0         Non-trainable params\n",
      "163 K     Total params\n",
      "0.654     Total estimated model params size (MB)\n"
     ]
    },
    {
     "data": {
      "application/vnd.jupyter.widget-view+json": {
       "model_id": "",
       "version_major": 2,
       "version_minor": 0
      },
      "text/plain": [
       "Sanity Checking: |                                                                               | 0/? [00:00<…"
      ]
     },
     "metadata": {},
     "output_type": "display_data"
    },
    {
     "data": {
      "application/vnd.jupyter.widget-view+json": {
       "model_id": "c5a5bf3495ff4e63b53c7e67469ab6c9",
       "version_major": 2,
       "version_minor": 0
      },
      "text/plain": [
       "Training: |                                                                                      | 0/? [00:00<…"
      ]
     },
     "metadata": {},
     "output_type": "display_data"
    },
    {
     "data": {
      "application/vnd.jupyter.widget-view+json": {
       "model_id": "",
       "version_major": 2,
       "version_minor": 0
      },
      "text/plain": [
       "Validation: |                                                                                    | 0/? [00:00<…"
      ]
     },
     "metadata": {},
     "output_type": "display_data"
    },
    {
     "name": "stderr",
     "output_type": "stream",
     "text": [
      "`Trainer.fit` stopped: `max_steps=10` reached.\n",
      "GPU available: False, used: False\n",
      "TPU available: False, using: 0 TPU cores\n",
      "HPU available: False, using: 0 HPUs\n"
     ]
    },
    {
     "data": {
      "application/vnd.jupyter.widget-view+json": {
       "model_id": "1b4956b4f16943ac97d003e7f586c1f6",
       "version_major": 2,
       "version_minor": 0
      },
      "text/plain": [
       "Predicting: |                                                                                    | 0/? [00:00<…"
      ]
     },
     "metadata": {},
     "output_type": "display_data"
    }
   ],
   "source": [
    "model_rnn = NeuralForecastRNN(\"W-Mon\", max_steps=10)\n",
    "\n",
    "y_pred_rnn = model_rnn.fit_predict(y_train, fh=y_test.index)"
   ]
  },
  {
   "cell_type": "code",
   "execution_count": 28,
   "id": "d98f0c1a-1ebe-439a-b9bc-cc0d24450480",
   "metadata": {
    "execution": {
     "iopub.execute_input": "2025-04-08T07:11:05.736922Z",
     "iopub.status.busy": "2025-04-08T07:11:05.736922Z",
     "iopub.status.idle": "2025-04-08T07:11:08.210161Z",
     "shell.execute_reply": "2025-04-08T07:11:08.210161Z",
     "shell.execute_reply.started": "2025-04-08T07:11:05.736922Z"
    },
    "tags": []
   },
   "outputs": [
    {
     "name": "stderr",
     "output_type": "stream",
     "text": [
      "Seed set to 1\n",
      "GPU available: False, used: False\n",
      "TPU available: False, using: 0 TPU cores\n",
      "HPU available: False, using: 0 HPUs\n",
      "\n",
      "  | Name            | Type          | Params | Mode \n",
      "----------------------------------------------------------\n",
      "0 | loss            | MAE           | 0      | train\n",
      "1 | padder          | ConstantPad1d | 0      | train\n",
      "2 | scaler          | TemporalNorm  | 0      | train\n",
      "3 | hist_encoder    | LSTM          | 484 K  | train\n",
      "4 | context_adapter | Linear        | 40.2 K | train\n",
      "5 | mlp_decoder     | MLP           | 2.4 K  | train\n",
      "----------------------------------------------------------\n",
      "526 K     Trainable params\n",
      "0         Non-trainable params\n",
      "526 K     Total params\n",
      "2.106     Total estimated model params size (MB)\n"
     ]
    },
    {
     "data": {
      "application/vnd.jupyter.widget-view+json": {
       "model_id": "",
       "version_major": 2,
       "version_minor": 0
      },
      "text/plain": [
       "Sanity Checking: |                                                                               | 0/? [00:00<…"
      ]
     },
     "metadata": {},
     "output_type": "display_data"
    },
    {
     "data": {
      "application/vnd.jupyter.widget-view+json": {
       "model_id": "264520b544b1462187166f9456552a19",
       "version_major": 2,
       "version_minor": 0
      },
      "text/plain": [
       "Training: |                                                                                      | 0/? [00:00<…"
      ]
     },
     "metadata": {},
     "output_type": "display_data"
    },
    {
     "data": {
      "application/vnd.jupyter.widget-view+json": {
       "model_id": "",
       "version_major": 2,
       "version_minor": 0
      },
      "text/plain": [
       "Validation: |                                                                                    | 0/? [00:00<…"
      ]
     },
     "metadata": {},
     "output_type": "display_data"
    },
    {
     "name": "stderr",
     "output_type": "stream",
     "text": [
      "`Trainer.fit` stopped: `max_steps=10` reached.\n",
      "GPU available: False, used: False\n",
      "TPU available: False, using: 0 TPU cores\n",
      "HPU available: False, using: 0 HPUs\n"
     ]
    },
    {
     "data": {
      "application/vnd.jupyter.widget-view+json": {
       "model_id": "aa9e16cf60d6489d81cfbe53c061cd19",
       "version_major": 2,
       "version_minor": 0
      },
      "text/plain": [
       "Predicting: |                                                                                    | 0/? [00:00<…"
      ]
     },
     "metadata": {},
     "output_type": "display_data"
    }
   ],
   "source": [
    "model_lstm = NeuralForecastLSTM(\"W-Mon\", max_steps=10)\n",
    "\n",
    "y_pred_lstm = model_lstm.fit_predict(y_train, fh=y_test.index)"
   ]
  },
  {
   "cell_type": "code",
   "execution_count": 29,
   "id": "cbede5cd-959f-44fb-8816-723f4c04cc49",
   "metadata": {
    "execution": {
     "iopub.execute_input": "2025-04-08T07:11:08.210161Z",
     "iopub.status.busy": "2025-04-08T07:11:08.210161Z",
     "iopub.status.idle": "2025-04-08T07:11:08.305582Z",
     "shell.execute_reply": "2025-04-08T07:11:08.305582Z",
     "shell.execute_reply.started": "2025-04-08T07:11:08.210161Z"
    },
    "tags": []
   },
   "outputs": [
    {
     "data": {
      "image/png": "[encoded data removed]",
      "text/plain": [
       "<Figure size 1600x400 with 1 Axes>"
      ]
     },
     "metadata": {},
     "output_type": "display_data"
    }
   ],
   "source": [
    "plot_series(y_train.tail(30), y_test, y_pred_rnn, y_pred_lstm, y_pred_arima, labels=['train', 'test', 'pred_rnn', 'pred_lstm', 'pred_arima'])\n",
    "\n",
    "plt.show()"
   ]
  },
  {
   "cell_type": "code",
   "execution_count": null,
   "id": "055de088-ef16-4e81-a7a9-8fd4b78d5350",
   "metadata": {},
   "outputs": [],
   "source": []
  }
 ],
 "metadata": {
  "kernelspec": {
   "display_name": "Python [conda env:courses]",
   "language": "python",
   "name": "conda-env-courses-py"
  },
  "language_info": {
   "codemirror_mode": {
    "name": "ipython",
    "version": 3
   },
   "file_extension": ".py",
   "mimetype": "text/x-python",
   "name": "python",
   "nbconvert_exporter": "python",
   "pygments_lexer": "ipython3",
   "version": "3.11.9"
  }
 },
 "nbformat": 4,
 "nbformat_minor": 5
}
