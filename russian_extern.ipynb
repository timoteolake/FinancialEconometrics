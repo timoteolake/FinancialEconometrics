{
 "cells": [
  {
   "cell_type": "code",
   "execution_count": 1,
   "id": "80d7699e-2674-4329-aa62-f7597620ac15",
   "metadata": {},
   "outputs": [],
   "source": [
    "import numpy as np\n",
    "import pandas as pd\n",
    "\n",
    "from sklearn.linear_model import LinearRegression\n",
    "from sktime.forecasting.arch import ARCH\n",
    "from sktime.utils.plotting import plot_series\n",
    "from sktime.forecasting.arima import ARIMA, AutoARIMA\n",
    "import statsmodels.formula.api as smf\n",
    "import statsmodels.api as sm\n",
    "import seaborn as sns\n",
    "# временной горизонт для прогнозирования\n",
    "from sktime.forecasting.base import ForecastingHorizon\n",
    "\n",
    "import pandas_datareader.data as web\n",
    "\n",
    "# настройки визуализации\n",
    "import matplotlib.pyplot as plt\n",
    "\n",
    "# Не показывать Warnings\n",
    "import warnings\n",
    "warnings.simplefilter(action='ignore', category=Warning)"
   ]
  },
  {
   "cell_type": "code",
   "execution_count": 2,
   "id": "eebf49ca-3892-4eff-9e0a-b9d83dd7d97b",
   "metadata": {},
   "outputs": [
    {
     "data": {
      "text/html": [
       "<div>\n",
       "<style scoped>\n",
       "    .dataframe tbody tr th:only-of-type {\n",
       "        vertical-align: middle;\n",
       "    }\n",
       "\n",
       "    .dataframe tbody tr th {\n",
       "        vertical-align: top;\n",
       "    }\n",
       "\n",
       "    .dataframe thead th {\n",
       "        text-align: right;\n",
       "    }\n",
       "</style>\n",
       "<table border=\"1\" class=\"dataframe\">\n",
       "  <thead>\n",
       "    <tr style=\"text-align: right;\">\n",
       "      <th></th>\n",
       "      <th>year</th>\n",
       "      <th>market</th>\n",
       "      <th>gdp</th>\n",
       "      <th>esports</th>\n",
       "      <th>esportsrub</th>\n",
       "      <th>subs</th>\n",
       "      <th>usd</th>\n",
       "    </tr>\n",
       "  </thead>\n",
       "  <tbody>\n",
       "    <tr>\n",
       "      <th>0</th>\n",
       "      <td>2016</td>\n",
       "      <td>91</td>\n",
       "      <td>85616.1</td>\n",
       "      <td>35.4</td>\n",
       "      <td>2.371850</td>\n",
       "      <td>NaN</td>\n",
       "      <td>67.0014</td>\n",
       "    </tr>\n",
       "    <tr>\n",
       "      <th>1</th>\n",
       "      <td>2017</td>\n",
       "      <td>94</td>\n",
       "      <td>91843.2</td>\n",
       "      <td>38.0</td>\n",
       "      <td>2.217095</td>\n",
       "      <td>NaN</td>\n",
       "      <td>58.3446</td>\n",
       "    </tr>\n",
       "    <tr>\n",
       "      <th>2</th>\n",
       "      <td>2018</td>\n",
       "      <td>101</td>\n",
       "      <td>103861.7</td>\n",
       "      <td>45.0</td>\n",
       "      <td>2.823363</td>\n",
       "      <td>NaN</td>\n",
       "      <td>62.7414</td>\n",
       "    </tr>\n",
       "    <tr>\n",
       "      <th>3</th>\n",
       "      <td>2019</td>\n",
       "      <td>121</td>\n",
       "      <td>109608.3</td>\n",
       "      <td>51.7</td>\n",
       "      <td>3.345791</td>\n",
       "      <td>NaN</td>\n",
       "      <td>64.7155</td>\n",
       "    </tr>\n",
       "    <tr>\n",
       "      <th>4</th>\n",
       "      <td>2020</td>\n",
       "      <td>163</td>\n",
       "      <td>107658.2</td>\n",
       "      <td>65.0</td>\n",
       "      <td>4.691642</td>\n",
       "      <td>NaN</td>\n",
       "      <td>72.1791</td>\n",
       "    </tr>\n",
       "    <tr>\n",
       "      <th>5</th>\n",
       "      <td>2021</td>\n",
       "      <td>178</td>\n",
       "      <td>135773.8</td>\n",
       "      <td>80.0</td>\n",
       "      <td>5.892416</td>\n",
       "      <td>NaN</td>\n",
       "      <td>73.6552</td>\n",
       "    </tr>\n",
       "    <tr>\n",
       "      <th>6</th>\n",
       "      <td>2022</td>\n",
       "      <td>168</td>\n",
       "      <td>155350.4</td>\n",
       "      <td>93.0</td>\n",
       "      <td>6.374090</td>\n",
       "      <td>1.0</td>\n",
       "      <td>68.5386</td>\n",
       "    </tr>\n",
       "    <tr>\n",
       "      <th>7</th>\n",
       "      <td>2023</td>\n",
       "      <td>176</td>\n",
       "      <td>171041.0</td>\n",
       "      <td>100.0</td>\n",
       "      <td>8.529970</td>\n",
       "      <td>0.8</td>\n",
       "      <td>85.2997</td>\n",
       "    </tr>\n",
       "    <tr>\n",
       "      <th>8</th>\n",
       "      <td>2024</td>\n",
       "      <td>187</td>\n",
       "      <td>201152.1</td>\n",
       "      <td>NaN</td>\n",
       "      <td>NaN</td>\n",
       "      <td>NaN</td>\n",
       "      <td>92.6225</td>\n",
       "    </tr>\n",
       "  </tbody>\n",
       "</table>\n",
       "</div>"
      ],
      "text/plain": [
       "   year  market       gdp  esports  esportsrub  subs      usd\n",
       "0  2016      91   85616.1     35.4    2.371850   NaN  67.0014\n",
       "1  2017      94   91843.2     38.0    2.217095   NaN  58.3446\n",
       "2  2018     101  103861.7     45.0    2.823363   NaN  62.7414\n",
       "3  2019     121  109608.3     51.7    3.345791   NaN  64.7155\n",
       "4  2020     163  107658.2     65.0    4.691642   NaN  72.1791\n",
       "5  2021     178  135773.8     80.0    5.892416   NaN  73.6552\n",
       "6  2022     168  155350.4     93.0    6.374090   1.0  68.5386\n",
       "7  2023     176  171041.0    100.0    8.529970   0.8  85.2997\n",
       "8  2024     187  201152.1      NaN         NaN   NaN  92.6225"
      ]
     },
     "execution_count": 2,
     "metadata": {},
     "output_type": "execute_result"
    }
   ],
   "source": [
    "df = pd.read_excel('C:\\\\Users\\\\ф\\\\Desktop\\\\vidext.xlsx')\n",
    "df"
   ]
  },
  {
   "cell_type": "markdown",
   "id": "c52f0513-d8cb-4d5b-af94-82254d74b746",
   "metadata": {},
   "source": [
    "# year - год\n",
    "# market - общий объём рынка видеоигр в России, млрд руб\n",
    "# gdp - ВВП России в текущих ценах, млрд руб\n",
    "# esportsrub - объём рынка киберспорта в России, млрд руб\n",
    "# subs - объём грантов от ИРИ в России, млрд руб\n",
    "# usd - среднегодовой курс доллара согласно ЦБ РФ"
   ]
  },
  {
   "cell_type": "code",
   "execution_count": 3,
   "id": "78ff8e33-71bc-4d60-96be-8a76ab030c79",
   "metadata": {},
   "outputs": [
    {
     "data": {
      "text/plain": [
       "<Axes: xlabel='gdp', ylabel='market'>"
      ]
     },
     "execution_count": 3,
     "metadata": {},
     "output_type": "execute_result"
    },
    {
     "data": {
      "image/png": "[encoded data removed]",
      "text/plain": [
       "<Figure size 640x480 with 1 Axes>"
      ]
     },
     "metadata": {},
     "output_type": "display_data"
    }
   ],
   "source": [
    "sns.regplot(data=df, x='gdp', y='market', ci=None, line_kws={\"color\": \"r\"})"
   ]
  },
  {
   "cell_type": "code",
   "execution_count": 8,
   "id": "e5e85c03-c216-46bf-9bc7-77dc1f0d1092",
   "metadata": {},
   "outputs": [
    {
     "data": {
      "text/plain": [
       "Intercept     -5.45\n",
       "np.log(gdp)    0.88\n",
       "dtype: float64"
      ]
     },
     "execution_count": 8,
     "metadata": {},
     "output_type": "execute_result"
    }
   ],
   "source": [
    "fitted_line = smf.ols(formula='np.log(market)~np.log(gdp)', data=df).fit()\n",
    "fitted_line.params.round(2)"
   ]
  },
  {
   "cell_type": "markdown",
   "id": "bdf02573-398e-422a-ad5f-08944f665dea",
   "metadata": {},
   "source": [
    "$$\n",
    "log(market) = -5.45+0.88*log(gdp)\n",
    "$$"
   ]
  },
  {
   "cell_type": "markdown",
   "id": "dbdec20a-8a00-4fe3-9e89-271eb9a4904c",
   "metadata": {},
   "source": [
    "При увеличении ВВП на 1% рынок видеоигр в России увеличивается на 0,88%"
   ]
  },
  {
   "cell_type": "code",
   "execution_count": 10,
   "id": "502d22f0-f37f-4bc8-a709-8583495f6a5d",
   "metadata": {},
   "outputs": [
    {
     "data": {
      "text/plain": [
       "Intercept         7.55\n",
       "np.log(market)    0.85\n",
       "dtype: float64"
      ]
     },
     "execution_count": 10,
     "metadata": {},
     "output_type": "execute_result"
    }
   ],
   "source": [
    "fitted_line = smf.ols(formula='np.log(gdp)~np.log(market)', data=df).fit()\n",
    "fitted_line.params.round(2)"
   ]
  },
  {
   "cell_type": "markdown",
   "id": "93b4080c-e7ce-4be2-adfa-6cbdd5daf8fc",
   "metadata": {},
   "source": [
    "$$\n",
    "log(gdp) = 7.55+0.85*log(market)\n",
    "$$"
   ]
  },
  {
   "cell_type": "markdown",
   "id": "bdc3251d-4364-4239-982a-5fe8f28758ff",
   "metadata": {},
   "source": [
    "При увеличении рынка видеоигр на 1% ВВП России увеличивается на 0,85%"
   ]
  },
  {
   "cell_type": "code",
   "execution_count": 12,
   "id": "e7a9a5e5-7970-402d-bcbe-0915ad334a2c",
   "metadata": {},
   "outputs": [
    {
     "data": {
      "text/plain": [
       "Intercept             4.09\n",
       "np.log(esportsrub)    0.57\n",
       "dtype: float64"
      ]
     },
     "execution_count": 12,
     "metadata": {},
     "output_type": "execute_result"
    }
   ],
   "source": [
    "fitted_line = smf.ols(formula='np.log(market)~np.log(esportsrub)', data=df).fit()\n",
    "fitted_line.params.round(2)"
   ]
  },
  {
   "cell_type": "markdown",
   "id": "2b0cfe82-d75a-47e5-b278-c99c17c6a10f",
   "metadata": {},
   "source": [
    "$$\n",
    "log(market) = 4.09+0.57*log(esportsrub)\n",
    "$$"
   ]
  },
  {
   "cell_type": "markdown",
   "id": "1ecf3347-c870-4a2b-8003-4532c61d3e5f",
   "metadata": {},
   "source": [
    "При увеличении рынка киберспорта на 1% рынок видеоигр в России увеличивается на 0,57%"
   ]
  },
  {
   "cell_type": "code",
   "execution_count": 15,
   "id": "3da26bfa-0b4b-4992-a110-847be72688e2",
   "metadata": {},
   "outputs": [
    {
     "data": {
      "text/plain": [
       "Intercept        -6.50\n",
       "np.log(market)    1.62\n",
       "dtype: float64"
      ]
     },
     "execution_count": 15,
     "metadata": {},
     "output_type": "execute_result"
    }
   ],
   "source": [
    "fitted_line = smf.ols(formula='np.log(esportsrub)~np.log(market)', data=df).fit()\n",
    "fitted_line.params.round(2)"
   ]
  },
  {
   "cell_type": "markdown",
   "id": "cfaba5eb-0f0d-4915-a32c-66c6651e84dd",
   "metadata": {},
   "source": [
    "$$\n",
    "log(esportsrub) = -6.50+1.62*log(market)\n",
    "$$"
   ]
  },
  {
   "cell_type": "markdown",
   "id": "5107ef03-cf22-4005-92a9-15ff731aea2b",
   "metadata": {},
   "source": [
    "При увеличении рынка видеоигр на 1% рынок киберспорта в России увеличивается на 1,62%"
   ]
  },
  {
   "cell_type": "code",
   "execution_count": null,
   "id": "1dc06561-3cbc-4c1c-9ad2-f2023212f83f",
   "metadata": {},
   "outputs": [],
   "source": []
  }
 ],
 "metadata": {
  "kernelspec": {
   "display_name": "Python 3 (ipykernel)",
   "language": "python",
   "name": "python3"
  },
  "language_info": {
   "codemirror_mode": {
    "name": "ipython",
    "version": 3
   },
   "file_extension": ".py",
   "mimetype": "text/x-python",
   "name": "python",
   "nbconvert_exporter": "python",
   "pygments_lexer": "ipython3",
   "version": "3.12.7"
  }
 },
 "nbformat": 4,
 "nbformat_minor": 5
}
