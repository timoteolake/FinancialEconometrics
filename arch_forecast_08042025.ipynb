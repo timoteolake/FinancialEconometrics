{
 "cells": [
  {
   "cell_type": "code",
   "execution_count": 1,
   "id": "32f2b54c-4bd4-49ec-90b3-41c5df5ed650",
   "metadata": {
    "execution": {
     "iopub.execute_input": "2025-04-08T06:22:16.531852Z",
     "iopub.status.busy": "2025-04-08T06:22:16.531852Z",
     "iopub.status.idle": "2025-04-08T06:22:20.418260Z",
     "shell.execute_reply": "2025-04-08T06:22:20.418260Z",
     "shell.execute_reply.started": "2025-04-08T06:22:16.531852Z"
    },
    "tags": []
   },
   "outputs": [],
   "source": [
    "import numpy as np\n",
    "import pandas as pd\n",
    "\n",
    "# Модель для прогнозирования, например ARIMA\n",
    "from sktime.forecasting.arch import ARCH\n",
    "# Визуализация временных рядов\n",
    "from sktime.utils.plotting import plot_series\n",
    "# Модули для кросс-валидации\n",
    "from sktime.split import temporal_train_test_split, ExpandingWindowSplitter, SlidingWindowSplitter, SingleWindowSplitter\n",
    "from sktime.forecasting.model_evaluation import evaluate\n",
    "from sktime.performance_metrics.forecasting import MeanSquaredError, MeanAbsoluteError, MeanAbsolutePercentageError # Метрики MSE, MAE, MAPE\n",
    "\n",
    "import pandas_datareader.data as web\n",
    "\n",
    "# настройки визуализации\n",
    "import matplotlib.pyplot as plt\n",
    "\n",
    "# Не показывать Warnings\n",
    "import warnings\n",
    "warnings.simplefilter(action='ignore', category=Warning)\n",
    "# Не показывать ValueWarning, ConvergenceWarning из statsmodels\n",
    "from statsmodels.tools.sm_exceptions import ValueWarning, ConvergenceWarning\n",
    "warnings.simplefilter('ignore', category=ValueWarning)\n",
    "warnings.simplefilter('ignore', category=ConvergenceWarning)"
   ]
  },
  {
   "cell_type": "code",
   "execution_count": 2,
   "id": "56556988-1e48-4cce-87cb-974bf507a238",
   "metadata": {
    "execution": {
     "iopub.execute_input": "2025-04-08T06:25:33.354424Z",
     "iopub.status.busy": "2025-04-08T06:25:33.354424Z",
     "iopub.status.idle": "2025-04-08T06:25:33.495591Z",
     "shell.execute_reply": "2025-04-08T06:25:33.495591Z",
     "shell.execute_reply.started": "2025-04-08T06:25:33.354424Z"
    },
    "tags": []
   },
   "outputs": [],
   "source": [
    "m2 = web.DataReader(name='WM2NS', data_source='fred', start='1995-01-01')\n",
    "y = np.log(m2).diff().dropna() #лог доходность #dropna сбрасывает нулевые значения чтобы было без ошибок"
   ]
  },
  {
   "cell_type": "code",
   "execution_count": 3,
   "id": "642d94a6-0259-4253-8297-0b99e0c8858e",
   "metadata": {
    "execution": {
     "iopub.execute_input": "2025-04-08T06:26:27.456343Z",
     "iopub.status.busy": "2025-04-08T06:26:27.455308Z",
     "iopub.status.idle": "2025-04-08T06:26:27.461480Z",
     "shell.execute_reply": "2025-04-08T06:26:27.460977Z",
     "shell.execute_reply.started": "2025-04-08T06:26:27.456343Z"
    },
    "tags": []
   },
   "outputs": [
    {
     "data": {
      "text/plain": [
       "(1574, 1)"
      ]
     },
     "execution_count": 3,
     "metadata": {},
     "output_type": "execute_result"
    }
   ],
   "source": [
    "y.shape"
   ]
  },
  {
   "cell_type": "code",
   "execution_count": 6,
   "id": "f00dc290-823a-4d9e-b0e4-00390cd09770",
   "metadata": {
    "execution": {
     "iopub.execute_input": "2025-04-08T06:34:37.738903Z",
     "iopub.status.busy": "2025-04-08T06:34:37.738903Z",
     "iopub.status.idle": "2025-04-08T06:35:12.022947Z",
     "shell.execute_reply": "2025-04-08T06:35:12.022947Z",
     "shell.execute_reply.started": "2025-04-08T06:34:37.738903Z"
    },
    "tags": []
   },
   "outputs": [
    {
     "name": "stdout",
     "output_type": "stream",
     "text": [
      "ARCH(lags=1, mean='AR', power=2)\n",
      "ARCH(lags=1, mean='AR', o=1, power=2)\n",
      "ARCH(lags=1, mean='AR', vol='EGARCH')\n",
      "ARCH(lags=1, mean='AR', o=1, vol='EGARCH')\n",
      "ARCH(lags=1, mean='AR', power=2, vol='APARCH')\n",
      "ARCH(lags=2, mean='AR', power=2)\n",
      "ARCH(lags=2, mean='AR', o=1, power=2)\n",
      "ARCH(lags=2, mean='AR', vol='EGARCH')\n",
      "ARCH(lags=2, mean='AR', o=1, vol='EGARCH')\n",
      "ARCH(lags=2, mean='AR', power=2, vol='APARCH')\n"
     ]
    },
    {
     "data": {
      "text/html": [
       "<div>\n",
       "<style scoped>\n",
       "    .dataframe tbody tr th:only-of-type {\n",
       "        vertical-align: middle;\n",
       "    }\n",
       "\n",
       "    .dataframe tbody tr th {\n",
       "        vertical-align: top;\n",
       "    }\n",
       "\n",
       "    .dataframe thead th {\n",
       "        text-align: right;\n",
       "    }\n",
       "</style>\n",
       "<table border=\"1\" class=\"dataframe\">\n",
       "  <thead>\n",
       "    <tr style=\"text-align: right;\">\n",
       "      <th></th>\n",
       "      <th>MSE</th>\n",
       "      <th>MAE</th>\n",
       "      <th>MAPE</th>\n",
       "    </tr>\n",
       "  </thead>\n",
       "  <tbody>\n",
       "    <tr>\n",
       "      <th>0</th>\n",
       "      <td>3.758600e-05</td>\n",
       "      <td>4.490058e-03</td>\n",
       "      <td>2.184690e+00</td>\n",
       "    </tr>\n",
       "    <tr>\n",
       "      <th>1</th>\n",
       "      <td>4.475315e+01</td>\n",
       "      <td>3.121255e-01</td>\n",
       "      <td>1.175449e+02</td>\n",
       "    </tr>\n",
       "    <tr>\n",
       "      <th>2</th>\n",
       "      <td>6.259924e+41</td>\n",
       "      <td>3.613931e+19</td>\n",
       "      <td>4.784396e+23</td>\n",
       "    </tr>\n",
       "    <tr>\n",
       "      <th>3</th>\n",
       "      <td>9.507752e+42</td>\n",
       "      <td>1.711746e+20</td>\n",
       "      <td>1.910537e+23</td>\n",
       "    </tr>\n",
       "    <tr>\n",
       "      <th>4</th>\n",
       "      <td>3.722294e-05</td>\n",
       "      <td>4.465362e-03</td>\n",
       "      <td>2.215068e+00</td>\n",
       "    </tr>\n",
       "    <tr>\n",
       "      <th>5</th>\n",
       "      <td>4.510696e-05</td>\n",
       "      <td>4.868701e-03</td>\n",
       "      <td>2.945328e+00</td>\n",
       "    </tr>\n",
       "    <tr>\n",
       "      <th>6</th>\n",
       "      <td>4.631155e-05</td>\n",
       "      <td>4.919395e-03</td>\n",
       "      <td>2.952405e+00</td>\n",
       "    </tr>\n",
       "    <tr>\n",
       "      <th>7</th>\n",
       "      <td>1.279381e+54</td>\n",
       "      <td>4.530268e+25</td>\n",
       "      <td>1.055424e+28</td>\n",
       "    </tr>\n",
       "    <tr>\n",
       "      <th>8</th>\n",
       "      <td>3.380072e+38</td>\n",
       "      <td>7.296279e+17</td>\n",
       "      <td>2.377673e+20</td>\n",
       "    </tr>\n",
       "    <tr>\n",
       "      <th>9</th>\n",
       "      <td>1.796449e+05</td>\n",
       "      <td>1.898913e+01</td>\n",
       "      <td>4.226826e+03</td>\n",
       "    </tr>\n",
       "  </tbody>\n",
       "</table>\n",
       "</div>"
      ],
      "text/plain": [
       "            MSE           MAE          MAPE\n",
       "0  3.758600e-05  4.490058e-03  2.184690e+00\n",
       "1  4.475315e+01  3.121255e-01  1.175449e+02\n",
       "2  6.259924e+41  3.613931e+19  4.784396e+23\n",
       "3  9.507752e+42  1.711746e+20  1.910537e+23\n",
       "4  3.722294e-05  4.465362e-03  2.215068e+00\n",
       "5  4.510696e-05  4.868701e-03  2.945328e+00\n",
       "6  4.631155e-05  4.919395e-03  2.952405e+00\n",
       "7  1.279381e+54  4.530268e+25  1.055424e+28\n",
       "8  3.380072e+38  7.296279e+17  2.377673e+20\n",
       "9  1.796449e+05  1.898913e+01  4.226826e+03"
      ]
     },
     "execution_count": 6,
     "metadata": {},
     "output_type": "execute_result"
    }
   ],
   "source": [
    "# Зададим список из специфицированных моделей прогнозирования\n",
    "forecasters = [ARCH(mean='AR', lags=1, vol='GARCH', p=1, q=1, power=2), ARCH(mean='AR', lags=1, vol='GARCH', p=1, q=1, o=1, power=2), \n",
    "               ARCH(mean='AR', lags=1, vol='EGARCH', p=1, q=1), ARCH(mean='AR', lags=1, vol='EGARCH', p=1, q=1, o=1),\n",
    "              ARCH(mean='AR', lags=1, vol='APARCH', p=1, q=1, power=2),\n",
    "              ARCH(mean='AR', lags=2, vol='GARCH', p=1, q=1, power=2), ARCH(mean='AR', lags=2, vol='GARCH', p=1, q=1, o=1, power=2), \n",
    "               ARCH(mean='AR', lags=2, vol='EGARCH', p=1, q=1), ARCH(mean='AR', lags=2, vol='EGARCH', p=1, q=1, o=1),\n",
    "              ARCH(mean='AR', lags=2, vol='APARCH', p=1, q=1, power=2)]\n",
    "# специфицируем метод кросс-валидации. Например, SlidingWindowSplitter\n",
    "cv_strategy = SlidingWindowSplitter(fh=np.arange(1, 6), initial_window=300, step_length=10)\n",
    "\n",
    "# инициализируем метрики\n",
    "metric = [MeanSquaredError(square_root=False), MeanAbsoluteError(), MeanAbsolutePercentageError()]\n",
    "\n",
    "# датафрейм с метриками по столбцам\n",
    "cv_data = pd.DataFrame(data=None, columns=['MSE', 'MAE', 'MAPE'])\n",
    "\n",
    "for model in forecasters:\n",
    "\tprint(model)\n",
    "\tcv_res = evaluate(forecaster=model, y=y, cv=cv_strategy, strategy=\"refit\", return_data=False, scoring=metric)\n",
    "\t# print(df.iloc[:,:len(metric)].mean()) # метрики для каждой модели\n",
    "\tcv_data.loc[len(cv_data.index)] = cv_res.iloc[:,[0,1,2]].mean().values\n",
    "\n",
    "# результаты кросс-валидации в виде датафрейма\n",
    "cv_data"
   ]
  },
  {
   "cell_type": "code",
   "execution_count": 7,
   "id": "cafa0106-aa5a-4a1f-81bf-d60cf2885fa4",
   "metadata": {
    "execution": {
     "iopub.execute_input": "2025-04-08T06:35:15.064377Z",
     "iopub.status.busy": "2025-04-08T06:35:15.064377Z",
     "iopub.status.idle": "2025-04-08T06:35:15.069042Z",
     "shell.execute_reply": "2025-04-08T06:35:15.068826Z",
     "shell.execute_reply.started": "2025-04-08T06:35:15.064377Z"
    },
    "tags": []
   },
   "outputs": [
    {
     "name": "stdout",
     "output_type": "stream",
     "text": [
      "MSE: model #=4\n",
      "MAE: model #=4\n",
      "MAPE: model #=0\n"
     ]
    }
   ],
   "source": [
    "# Индекс модели\n",
    "for i in range(cv_data.shape[1]):\n",
    "\tprint(f'{cv_data.columns[i]}: model #={cv_data.iloc[:,i].argmin()}')"
   ]
  },
  {
   "cell_type": "code",
   "execution_count": 8,
   "id": "937d3a34-0f57-47a6-99cc-9c363fa8f960",
   "metadata": {
    "execution": {
     "iopub.execute_input": "2025-04-08T06:37:01.983738Z",
     "iopub.status.busy": "2025-04-08T06:37:01.982737Z",
     "iopub.status.idle": "2025-04-08T06:37:02.226651Z",
     "shell.execute_reply": "2025-04-08T06:37:02.226651Z",
     "shell.execute_reply.started": "2025-04-08T06:37:01.983738Z"
    },
    "tags": []
   },
   "outputs": [
    {
     "data": {
      "text/plain": [
       "<Axes: xlabel='DATE'>"
      ]
     },
     "execution_count": 8,
     "metadata": {},
     "output_type": "execute_result"
    },
    {
     "data": {
      "image/png": "[encoded data removed]",
      "text/plain": [
       "<Figure size 640x480 with 1 Axes>"
      ]
     },
     "metadata": {},
     "output_type": "display_data"
    }
   ],
   "source": [
    "y.plot()"
   ]
  },
  {
   "cell_type": "code",
   "execution_count": null,
   "id": "50c4a576-bb15-42ef-85f8-a59a9ab2f3b8",
   "metadata": {},
   "outputs": [],
   "source": []
  }
 ],
 "metadata": {
  "kernelspec": {
   "display_name": "Python [conda env:courses]",
   "language": "python",
   "name": "conda-env-courses-py"
  },
  "language_info": {
   "codemirror_mode": {
    "name": "ipython",
    "version": 3
   },
   "file_extension": ".py",
   "mimetype": "text/x-python",
   "name": "python",
   "nbconvert_exporter": "python",
   "pygments_lexer": "ipython3",
   "version": "3.11.9"
  }
 },
 "nbformat": 4,
 "nbformat_minor": 5
}
