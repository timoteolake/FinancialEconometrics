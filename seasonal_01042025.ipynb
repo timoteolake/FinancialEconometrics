{
 "cells": [
  {
   "cell_type": "code",
   "execution_count": 1,
   "id": "06a3786b-6c6c-4aef-a775-aacdba1e4206",
   "metadata": {
    "execution": {
     "iopub.execute_input": "2025-04-01T06:36:32.074491Z",
     "iopub.status.busy": "2025-04-01T06:36:32.074491Z",
     "iopub.status.idle": "2025-04-01T06:36:34.741154Z",
     "shell.execute_reply": "2025-04-01T06:36:34.741154Z",
     "shell.execute_reply.started": "2025-04-01T06:36:32.074491Z"
    }
   },
   "outputs": [],
   "source": [
    "import numpy as np\n",
    "import pandas as pd\n",
    "\n",
    "from sktime.forecasting.arima import ARIMA, AutoARIMA\n",
    "# from sktime.forecasting.arima import StatsModelsARIMA\n",
    "# from sktime.forecasting.statsforecast import StatsForecastAutoARIMA\n",
    "from sktime.utils.plotting import plot_series\n",
    "# временной горизонт для прогнозирования\n",
    "from sktime.forecasting.base import ForecastingHorizon\n",
    "\n",
    "import pandas_datareader.data as web\n",
    "\n",
    "# тесты диагностики\n",
    "from statsmodels.stats.diagnostic import het_arch, acorr_ljungbox\n",
    "\n",
    "# настройки визуализации\n",
    "import matplotlib.pyplot as plt\n",
    "\n",
    "# Не показывать Warnings\n",
    "import warnings\n",
    "warnings.simplefilter(action='ignore', category=Warning)\n",
    "# Не показывать ValueWarning, ConvergenceWarning из statsmodels\n",
    "from statsmodels.tools.sm_exceptions import ValueWarning, ConvergenceWarning\n",
    "warnings.simplefilter('ignore', category=ValueWarning)\n",
    "warnings.simplefilter('ignore', category=ConvergenceWarning)"
   ]
  },
  {
   "cell_type": "code",
   "execution_count": 2,
   "id": "953939ca-da66-4b48-8749-aa2d07fb0bbd",
   "metadata": {
    "execution": {
     "iopub.execute_input": "2025-04-01T06:36:37.916679Z",
     "iopub.status.busy": "2025-04-01T06:36:37.916679Z",
     "iopub.status.idle": "2025-04-01T06:36:38.130001Z",
     "shell.execute_reply": "2025-04-01T06:36:38.130001Z",
     "shell.execute_reply.started": "2025-04-01T06:36:37.916679Z"
    },
    "tags": []
   },
   "outputs": [],
   "source": [
    "y = web.DataReader(name='WGS10YR', data_source='fred', start='2000-01-01')"
   ]
  },
  {
   "cell_type": "code",
   "execution_count": 3,
   "id": "f11350e2-9e53-4ac7-a19a-aaff54042f66",
   "metadata": {
    "execution": {
     "iopub.execute_input": "2025-04-01T06:36:55.467212Z",
     "iopub.status.busy": "2025-04-01T06:36:55.466211Z",
     "iopub.status.idle": "2025-04-01T06:37:00.126249Z",
     "shell.execute_reply": "2025-04-01T06:37:00.126249Z",
     "shell.execute_reply.started": "2025-04-01T06:36:55.467212Z"
    }
   },
   "outputs": [
    {
     "data": {
      "text/plain": [
       "{'ar.L1': np.float64(0.22772508877865985),\n",
       " 'sigma2': np.float64(0.009551265278018964),\n",
       " 'order': (1, 1, 0),\n",
       " 'seasonal_order': (0, 0, 0, 0),\n",
       " 'aic': np.float64(-2382.1243439820455),\n",
       " 'aicc': np.float64(-2382.1152046065695),\n",
       " 'bic': np.float64(-2371.759639758275),\n",
       " 'hqic': np.float64(-2378.237836295653)}"
      ]
     },
     "execution_count": 3,
     "metadata": {},
     "output_type": "execute_result"
    }
   ],
   "source": [
    "forecaster = AutoARIMA(information_criterion='bic', test='kpss', seasonal=False)\n",
    "forecaster.fit(y)\n",
    "forecaster.get_fitted_params() #['order']"
   ]
  },
  {
   "cell_type": "code",
   "execution_count": null,
   "id": "6d0a1576-a6e6-4c75-923e-6e169b52130c",
   "metadata": {},
   "outputs": [],
   "source": []
  },
  {
   "cell_type": "code",
   "execution_count": null,
   "id": "98f7f13b-6222-429b-b266-9c4fb27ae0f7",
   "metadata": {},
   "outputs": [],
   "source": []
  }
 ],
 "metadata": {
  "kernelspec": {
   "display_name": "Python [conda env:courses]",
   "language": "python",
   "name": "conda-env-courses-py"
  },
  "language_info": {
   "codemirror_mode": {
    "name": "ipython",
    "version": 3
   },
   "file_extension": ".py",
   "mimetype": "text/x-python",
   "name": "python",
   "nbconvert_exporter": "python",
   "pygments_lexer": "ipython3",
   "version": "3.11.11"
  }
 },
 "nbformat": 4,
 "nbformat_minor": 5
}
