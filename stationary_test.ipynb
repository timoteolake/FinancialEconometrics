{
 "cells": [
  {
   "cell_type": "code",
   "execution_count": 1,
   "id": "df8c5d92-e0d9-4b86-8e8a-58e2a1d8e4e5",
   "metadata": {
    "execution": {
     "iopub.execute_input": "2025-03-25T08:20:36.493338Z",
     "iopub.status.busy": "2025-03-25T08:20:36.492337Z",
     "iopub.status.idle": "2025-03-25T08:20:38.990924Z",
     "shell.execute_reply": "2025-03-25T08:20:38.990924Z",
     "shell.execute_reply.started": "2025-03-25T08:20:36.493338Z"
    }
   },
   "outputs": [],
   "source": [
    "import numpy as np\n",
    "import pandas as pd\n",
    "\n",
    "from sktime.param_est.stationarity import StationarityADF, StationarityKPSS, StationarityDFGLS, \\\n",
    "\tStationarityPhillipsPerron, StationarityADFArch, StationarityKPSSArch\n",
    "\n",
    "import pandas_datareader.data as web\n",
    "\n",
    "# настройки визуализации\n",
    "import matplotlib.pyplot as plt\n",
    "\n",
    "# Не показывать Warnings\n",
    "import warnings\n",
    "warnings.simplefilter(action='ignore', category=Warning)\n",
    "# Не показывать InterpolationWarning из statsmodels\n",
    "from statsmodels.tools.sm_exceptions import InterpolationWarning\n",
    "warnings.simplefilter('ignore', category=InterpolationWarning)"
   ]
  },
  {
   "cell_type": "code",
   "execution_count": 2,
   "id": "6191aeaf-c324-4020-bf37-3cee11ba4b6c",
   "metadata": {
    "execution": {
     "iopub.execute_input": "2025-03-25T08:21:27.654963Z",
     "iopub.status.busy": "2025-03-25T08:21:27.653962Z",
     "iopub.status.idle": "2025-03-25T08:21:30.842206Z",
     "shell.execute_reply": "2025-03-25T08:21:30.842206Z",
     "shell.execute_reply.started": "2025-03-25T08:21:27.654963Z"
    }
   },
   "outputs": [],
   "source": [
    "y = np.log(web.DataReader(name='M2SL', data_source='fred', start='1995-01-01'))\n",
    "y.index = y.index.to_period(freq='M')"
   ]
  },
  {
   "cell_type": "code",
   "execution_count": 3,
   "id": "e752ccb8-3076-4f32-a101-21447aaac80d",
   "metadata": {
    "execution": {
     "iopub.execute_input": "2025-03-25T08:22:21.174627Z",
     "iopub.status.busy": "2025-03-25T08:22:21.174627Z",
     "iopub.status.idle": "2025-03-25T08:22:21.760525Z",
     "shell.execute_reply": "2025-03-25T08:22:21.760525Z",
     "shell.execute_reply.started": "2025-03-25T08:22:21.174627Z"
    }
   },
   "outputs": [
    {
     "data": {
      "text/plain": [
       "{'pvalue': np.float64(0.3969096230277427),\n",
       " 'stationary': np.False_,\n",
       " 'test_statistic': np.float64(-2.3677292402945205),\n",
       " 'used_lag': 1}"
      ]
     },
     "execution_count": 3,
     "metadata": {},
     "output_type": "execute_result"
    }
   ],
   "source": [
    "sty_est = StationarityADF(p_threshold=0.05, regression='ct', autolag='BIC')\n",
    "sty_est.fit(y) \n",
    "sty_est.get_fitted_params()"
   ]
  },
  {
   "cell_type": "code",
   "execution_count": 4,
   "id": "99a989f5-651b-46b0-80d3-76988ed44ab3",
   "metadata": {
    "execution": {
     "iopub.execute_input": "2025-03-25T08:23:39.758381Z",
     "iopub.status.busy": "2025-03-25T08:23:39.758381Z",
     "iopub.status.idle": "2025-03-25T08:23:39.788916Z",
     "shell.execute_reply": "2025-03-25T08:23:39.788916Z",
     "shell.execute_reply.started": "2025-03-25T08:23:39.758381Z"
    }
   },
   "outputs": [
    {
     "data": {
      "text/plain": [
       "{'pvalue': np.float64(1.2229705173161054e-15),\n",
       " 'stationary': np.True_,\n",
       " 'test_statistic': np.float64(-9.28489115282),\n",
       " 'used_lag': 0}"
      ]
     },
     "execution_count": 4,
     "metadata": {},
     "output_type": "execute_result"
    }
   ],
   "source": [
    "sty_est = StationarityADF(p_threshold=0.05, regression='c', autolag='BIC')\n",
    "sty_est.fit(y.diff().dropna()) \n",
    "sty_est.get_fitted_params()"
   ]
  },
  {
   "cell_type": "code",
   "execution_count": 5,
   "id": "6b3b99cb-ea20-47f3-9e92-a07db6e490ff",
   "metadata": {
    "execution": {
     "iopub.execute_input": "2025-03-25T08:28:12.117960Z",
     "iopub.status.busy": "2025-03-25T08:28:12.116959Z",
     "iopub.status.idle": "2025-03-25T08:28:12.128067Z",
     "shell.execute_reply": "2025-03-25T08:28:12.128067Z",
     "shell.execute_reply.started": "2025-03-25T08:28:12.117960Z"
    }
   },
   "outputs": [
    {
     "data": {
      "text/plain": [
       "{'lags': 11,\n",
       " 'pvalue': np.float64(0.021278753083525215),\n",
       " 'stationary': np.False_,\n",
       " 'test_statistic': np.float64(0.18592332511059942)}"
      ]
     },
     "execution_count": 5,
     "metadata": {},
     "output_type": "execute_result"
    }
   ],
   "source": [
    "sty_est = StationarityKPSS(p_threshold=0.05, regression='ct')\n",
    "sty_est.fit(y)\n",
    "sty_est.get_fitted_params()"
   ]
  },
  {
   "cell_type": "code",
   "execution_count": 6,
   "id": "9a4e9862-2798-42cf-b863-86c57238f279",
   "metadata": {
    "execution": {
     "iopub.execute_input": "2025-03-25T08:29:38.801488Z",
     "iopub.status.busy": "2025-03-25T08:29:38.801488Z",
     "iopub.status.idle": "2025-03-25T08:29:38.812410Z",
     "shell.execute_reply": "2025-03-25T08:29:38.811402Z",
     "shell.execute_reply.started": "2025-03-25T08:29:38.801488Z"
    }
   },
   "outputs": [
    {
     "data": {
      "text/plain": [
       "{'lags': 9,\n",
       " 'pvalue': np.float64(0.1),\n",
       " 'stationary': np.True_,\n",
       " 'test_statistic': np.float64(0.0606027030830028)}"
      ]
     },
     "execution_count": 6,
     "metadata": {},
     "output_type": "execute_result"
    }
   ],
   "source": [
    "sty_est = StationarityKPSS(p_threshold=0.05, regression='ct')\n",
    "sty_est.fit(y.diff().dropna()) \n",
    "sty_est.get_fitted_params()"
   ]
  },
  {
   "cell_type": "code",
   "execution_count": null,
   "id": "d1bfc71c-201f-4b84-a431-5d16c6de25cb",
   "metadata": {},
   "outputs": [],
   "source": []
  }
 ],
 "metadata": {
  "kernelspec": {
   "display_name": "Python [conda env:courses]",
   "language": "python",
   "name": "conda-env-courses-py"
  },
  "language_info": {
   "codemirror_mode": {
    "name": "ipython",
    "version": 3
   },
   "file_extension": ".py",
   "mimetype": "text/x-python",
   "name": "python",
   "nbconvert_exporter": "python",
   "pygments_lexer": "ipython3",
   "version": "3.11.11"
  }
 },
 "nbformat": 4,
 "nbformat_minor": 5
}
